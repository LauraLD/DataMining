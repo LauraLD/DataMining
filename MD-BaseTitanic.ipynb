{
  "nbformat": 4,
  "nbformat_minor": 0,
  "metadata": {
    "colab": {
      "name": "LauraTitanic2.ipynb",
      "provenance": []
    },
    "kernelspec": {
      "name": "python3",
      "display_name": "Python 3"
    }
  },
  "cells": [
    {
      "cell_type": "markdown",
      "metadata": {
        "id": "12cqBxepFDUT"
      },
      "source": [
        "**Trabalho de Mineração de Dados - Limpeza e transformação de dados**\n",
        "\n",
        "Segue uma pequena descrição a respeito das colunas do arquivo de treino:\n",
        "\n",
        "* Passengerid = Identificador do passageiro do navio\n",
        "* Survived = Se sobreviveu ao naufrágio estará como 1 e caso esteja com 0 (zero) se não sobreviveu\n",
        "* Pclass = Tipo da classe de passagem (onde 1 a melhor classe e 3 a pior classe)\n",
        "* Name = Nome do passageiro\n",
        "* Sex = Gênero do passageiro\n",
        "* Age = Idade do passageiro\n",
        "* SibSp = Número de irmãos / cônjuges a bordo\n",
        "* Parch = Número de pais / filhos a bordo\n",
        "* Ticket = Código do ticket\n",
        "* Fare = Valor da passagem\n",
        "* Cabin = Número da Cabine\n",
        "* Embarked = Local ondem o passageiro embarcou (C = Cherbourg, Q = Queenstown, S = Southampton)"
      ]
    },
    {
      "cell_type": "code",
      "metadata": {
        "id": "ppb9PqYyJUYq"
      },
      "source": [
        "# imports\n",
        "\n",
        "import pandas as pd\n",
        "import numpy as np\n",
        "import matplotlib.pyplot as plt\n",
        "import seaborn as sn\n",
        "\n",
        "%matplotlib inline"
      ],
      "execution_count": 1,
      "outputs": []
    },
    {
      "cell_type": "code",
      "metadata": {
        "id": "shGpQdzrJYom",
        "outputId": "a159700c-59a5-460d-a3f5-dc970b3dfd3e",
        "colab": {
          "resources": {
            "http://localhost:8080/nbextensions/google.colab/files.js": {
              "data": "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",
              "ok": true,
              "headers": [
                [
                  "content-type",
                  "application/javascript"
                ]
              ],
              "status": 200,
              "status_text": ""
            }
          },
          "base_uri": "https://localhost:8080/",
          "height": 73
        }
      },
      "source": [
        "from google.colab import files  #biblioteca utilizada para carregar os dados para o google colab\n",
        "uploaded = files.upload()"
      ],
      "execution_count": 2,
      "outputs": [
        {
          "output_type": "display_data",
          "data": {
            "text/html": [
              "\n",
              "     <input type=\"file\" id=\"files-2d3b4725-9826-4aa5-8006-69d52a52f621\" name=\"files[]\" multiple disabled\n",
              "        style=\"border:none\" />\n",
              "     <output id=\"result-2d3b4725-9826-4aa5-8006-69d52a52f621\">\n",
              "      Upload widget is only available when the cell has been executed in the\n",
              "      current browser session. Please rerun this cell to enable.\n",
              "      </output>\n",
              "      <script src=\"/nbextensions/google.colab/files.js\"></script> "
            ],
            "text/plain": [
              "<IPython.core.display.HTML object>"
            ]
          },
          "metadata": {
            "tags": []
          }
        },
        {
          "output_type": "stream",
          "text": [
            "Saving train.csv to train.csv\n"
          ],
          "name": "stdout"
        }
      ]
    },
    {
      "cell_type": "code",
      "metadata": {
        "id": "31-19hKNJm37"
      },
      "source": [
        "df_train = pd.read_csv('train.csv')  #leitura do arquivo de treino"
      ],
      "execution_count": 3,
      "outputs": []
    },
    {
      "cell_type": "code",
      "metadata": {
        "id": "D5MLmQNyJuY-",
        "outputId": "b8ccefc0-bd87-4a69-9f1c-9faf079513a7",
        "colab": {
          "base_uri": "https://localhost:8080/",
          "height": 297
        }
      },
      "source": [
        "df_train.describe() #descrição do arquivo"
      ],
      "execution_count": 4,
      "outputs": [
        {
          "output_type": "execute_result",
          "data": {
            "text/html": [
              "<div>\n",
              "<style scoped>\n",
              "    .dataframe tbody tr th:only-of-type {\n",
              "        vertical-align: middle;\n",
              "    }\n",
              "\n",
              "    .dataframe tbody tr th {\n",
              "        vertical-align: top;\n",
              "    }\n",
              "\n",
              "    .dataframe thead th {\n",
              "        text-align: right;\n",
              "    }\n",
              "</style>\n",
              "<table border=\"1\" class=\"dataframe\">\n",
              "  <thead>\n",
              "    <tr style=\"text-align: right;\">\n",
              "      <th></th>\n",
              "      <th>PassengerId</th>\n",
              "      <th>Survived</th>\n",
              "      <th>Pclass</th>\n",
              "      <th>Age</th>\n",
              "      <th>SibSp</th>\n",
              "      <th>Parch</th>\n",
              "      <th>Fare</th>\n",
              "    </tr>\n",
              "  </thead>\n",
              "  <tbody>\n",
              "    <tr>\n",
              "      <th>count</th>\n",
              "      <td>891.000000</td>\n",
              "      <td>891.000000</td>\n",
              "      <td>891.000000</td>\n",
              "      <td>714.000000</td>\n",
              "      <td>891.000000</td>\n",
              "      <td>891.000000</td>\n",
              "      <td>891.000000</td>\n",
              "    </tr>\n",
              "    <tr>\n",
              "      <th>mean</th>\n",
              "      <td>446.000000</td>\n",
              "      <td>0.383838</td>\n",
              "      <td>2.308642</td>\n",
              "      <td>29.699118</td>\n",
              "      <td>0.523008</td>\n",
              "      <td>0.381594</td>\n",
              "      <td>32.204208</td>\n",
              "    </tr>\n",
              "    <tr>\n",
              "      <th>std</th>\n",
              "      <td>257.353842</td>\n",
              "      <td>0.486592</td>\n",
              "      <td>0.836071</td>\n",
              "      <td>14.526497</td>\n",
              "      <td>1.102743</td>\n",
              "      <td>0.806057</td>\n",
              "      <td>49.693429</td>\n",
              "    </tr>\n",
              "    <tr>\n",
              "      <th>min</th>\n",
              "      <td>1.000000</td>\n",
              "      <td>0.000000</td>\n",
              "      <td>1.000000</td>\n",
              "      <td>0.420000</td>\n",
              "      <td>0.000000</td>\n",
              "      <td>0.000000</td>\n",
              "      <td>0.000000</td>\n",
              "    </tr>\n",
              "    <tr>\n",
              "      <th>25%</th>\n",
              "      <td>223.500000</td>\n",
              "      <td>0.000000</td>\n",
              "      <td>2.000000</td>\n",
              "      <td>20.125000</td>\n",
              "      <td>0.000000</td>\n",
              "      <td>0.000000</td>\n",
              "      <td>7.910400</td>\n",
              "    </tr>\n",
              "    <tr>\n",
              "      <th>50%</th>\n",
              "      <td>446.000000</td>\n",
              "      <td>0.000000</td>\n",
              "      <td>3.000000</td>\n",
              "      <td>28.000000</td>\n",
              "      <td>0.000000</td>\n",
              "      <td>0.000000</td>\n",
              "      <td>14.454200</td>\n",
              "    </tr>\n",
              "    <tr>\n",
              "      <th>75%</th>\n",
              "      <td>668.500000</td>\n",
              "      <td>1.000000</td>\n",
              "      <td>3.000000</td>\n",
              "      <td>38.000000</td>\n",
              "      <td>1.000000</td>\n",
              "      <td>0.000000</td>\n",
              "      <td>31.000000</td>\n",
              "    </tr>\n",
              "    <tr>\n",
              "      <th>max</th>\n",
              "      <td>891.000000</td>\n",
              "      <td>1.000000</td>\n",
              "      <td>3.000000</td>\n",
              "      <td>80.000000</td>\n",
              "      <td>8.000000</td>\n",
              "      <td>6.000000</td>\n",
              "      <td>512.329200</td>\n",
              "    </tr>\n",
              "  </tbody>\n",
              "</table>\n",
              "</div>"
            ],
            "text/plain": [
              "       PassengerId    Survived      Pclass  ...       SibSp       Parch        Fare\n",
              "count   891.000000  891.000000  891.000000  ...  891.000000  891.000000  891.000000\n",
              "mean    446.000000    0.383838    2.308642  ...    0.523008    0.381594   32.204208\n",
              "std     257.353842    0.486592    0.836071  ...    1.102743    0.806057   49.693429\n",
              "min       1.000000    0.000000    1.000000  ...    0.000000    0.000000    0.000000\n",
              "25%     223.500000    0.000000    2.000000  ...    0.000000    0.000000    7.910400\n",
              "50%     446.000000    0.000000    3.000000  ...    0.000000    0.000000   14.454200\n",
              "75%     668.500000    1.000000    3.000000  ...    1.000000    0.000000   31.000000\n",
              "max     891.000000    1.000000    3.000000  ...    8.000000    6.000000  512.329200\n",
              "\n",
              "[8 rows x 7 columns]"
            ]
          },
          "metadata": {
            "tags": []
          },
          "execution_count": 4
        }
      ]
    },
    {
      "cell_type": "markdown",
      "metadata": {
        "id": "YohsvlFiKf90"
      },
      "source": [
        "É possível perceber que a coluna Age possui menos dados que as demais o que pode indicar dados faltantes.\n"
      ]
    },
    {
      "cell_type": "code",
      "metadata": {
        "id": "2wPQPSNLKE_R",
        "outputId": "79c51000-332e-4ec4-c071-37acf2f9e634",
        "colab": {
          "base_uri": "https://localhost:8080/"
        }
      },
      "source": [
        "df_train.shape"
      ],
      "execution_count": 5,
      "outputs": [
        {
          "output_type": "execute_result",
          "data": {
            "text/plain": [
              "(891, 12)"
            ]
          },
          "metadata": {
            "tags": []
          },
          "execution_count": 5
        }
      ]
    },
    {
      "cell_type": "markdown",
      "metadata": {
        "id": "qn4JlToOLBER"
      },
      "source": [
        "O arquivo possui 891 linhas e 12 colunas (ou features)\n"
      ]
    },
    {
      "cell_type": "code",
      "metadata": {
        "id": "f_ziijtBLRlD",
        "outputId": "79deb75d-e4ac-4bd8-d2de-5e1e5e34641b",
        "colab": {
          "base_uri": "https://localhost:8080/"
        }
      },
      "source": [
        "df_train.info() #informação sobre o arquivo"
      ],
      "execution_count": 6,
      "outputs": [
        {
          "output_type": "stream",
          "text": [
            "<class 'pandas.core.frame.DataFrame'>\n",
            "RangeIndex: 891 entries, 0 to 890\n",
            "Data columns (total 12 columns):\n",
            " #   Column       Non-Null Count  Dtype  \n",
            "---  ------       --------------  -----  \n",
            " 0   PassengerId  891 non-null    int64  \n",
            " 1   Survived     891 non-null    int64  \n",
            " 2   Pclass       891 non-null    int64  \n",
            " 3   Name         891 non-null    object \n",
            " 4   Sex          891 non-null    object \n",
            " 5   Age          714 non-null    float64\n",
            " 6   SibSp        891 non-null    int64  \n",
            " 7   Parch        891 non-null    int64  \n",
            " 8   Ticket       891 non-null    object \n",
            " 9   Fare         891 non-null    float64\n",
            " 10  Cabin        204 non-null    object \n",
            " 11  Embarked     889 non-null    object \n",
            "dtypes: float64(2), int64(5), object(5)\n",
            "memory usage: 83.7+ KB\n"
          ],
          "name": "stdout"
        }
      ]
    },
    {
      "cell_type": "markdown",
      "metadata": {
        "id": "KbnCyAzLLjLx"
      },
      "source": [
        "É possível observar que o tipo dos dados da idade é float, porém o tipo inteiro representaria melhor os dados da idade.\n",
        "\n",
        "É possível observar tabém que além de existirem dados faltantes para idade, também existem dados faltantes para embarque e cabines."
      ]
    },
    {
      "cell_type": "code",
      "metadata": {
        "id": "JOnF4kXfMWhq",
        "outputId": "ccdb096f-798d-49d4-cb8e-a0ac38437d46",
        "colab": {
          "base_uri": "https://localhost:8080/",
          "height": 359
        }
      },
      "source": [
        "df_train.head(10) #visualização de parte do arquivo"
      ],
      "execution_count": 7,
      "outputs": [
        {
          "output_type": "execute_result",
          "data": {
            "text/html": [
              "<div>\n",
              "<style scoped>\n",
              "    .dataframe tbody tr th:only-of-type {\n",
              "        vertical-align: middle;\n",
              "    }\n",
              "\n",
              "    .dataframe tbody tr th {\n",
              "        vertical-align: top;\n",
              "    }\n",
              "\n",
              "    .dataframe thead th {\n",
              "        text-align: right;\n",
              "    }\n",
              "</style>\n",
              "<table border=\"1\" class=\"dataframe\">\n",
              "  <thead>\n",
              "    <tr style=\"text-align: right;\">\n",
              "      <th></th>\n",
              "      <th>PassengerId</th>\n",
              "      <th>Survived</th>\n",
              "      <th>Pclass</th>\n",
              "      <th>Name</th>\n",
              "      <th>Sex</th>\n",
              "      <th>Age</th>\n",
              "      <th>SibSp</th>\n",
              "      <th>Parch</th>\n",
              "      <th>Ticket</th>\n",
              "      <th>Fare</th>\n",
              "      <th>Cabin</th>\n",
              "      <th>Embarked</th>\n",
              "    </tr>\n",
              "  </thead>\n",
              "  <tbody>\n",
              "    <tr>\n",
              "      <th>0</th>\n",
              "      <td>1</td>\n",
              "      <td>0</td>\n",
              "      <td>3</td>\n",
              "      <td>Braund, Mr. Owen Harris</td>\n",
              "      <td>male</td>\n",
              "      <td>22.0</td>\n",
              "      <td>1</td>\n",
              "      <td>0</td>\n",
              "      <td>A/5 21171</td>\n",
              "      <td>7.2500</td>\n",
              "      <td>NaN</td>\n",
              "      <td>S</td>\n",
              "    </tr>\n",
              "    <tr>\n",
              "      <th>1</th>\n",
              "      <td>2</td>\n",
              "      <td>1</td>\n",
              "      <td>1</td>\n",
              "      <td>Cumings, Mrs. John Bradley (Florence Briggs Th...</td>\n",
              "      <td>female</td>\n",
              "      <td>38.0</td>\n",
              "      <td>1</td>\n",
              "      <td>0</td>\n",
              "      <td>PC 17599</td>\n",
              "      <td>71.2833</td>\n",
              "      <td>C85</td>\n",
              "      <td>C</td>\n",
              "    </tr>\n",
              "    <tr>\n",
              "      <th>2</th>\n",
              "      <td>3</td>\n",
              "      <td>1</td>\n",
              "      <td>3</td>\n",
              "      <td>Heikkinen, Miss. Laina</td>\n",
              "      <td>female</td>\n",
              "      <td>26.0</td>\n",
              "      <td>0</td>\n",
              "      <td>0</td>\n",
              "      <td>STON/O2. 3101282</td>\n",
              "      <td>7.9250</td>\n",
              "      <td>NaN</td>\n",
              "      <td>S</td>\n",
              "    </tr>\n",
              "    <tr>\n",
              "      <th>3</th>\n",
              "      <td>4</td>\n",
              "      <td>1</td>\n",
              "      <td>1</td>\n",
              "      <td>Futrelle, Mrs. Jacques Heath (Lily May Peel)</td>\n",
              "      <td>female</td>\n",
              "      <td>35.0</td>\n",
              "      <td>1</td>\n",
              "      <td>0</td>\n",
              "      <td>113803</td>\n",
              "      <td>53.1000</td>\n",
              "      <td>C123</td>\n",
              "      <td>S</td>\n",
              "    </tr>\n",
              "    <tr>\n",
              "      <th>4</th>\n",
              "      <td>5</td>\n",
              "      <td>0</td>\n",
              "      <td>3</td>\n",
              "      <td>Allen, Mr. William Henry</td>\n",
              "      <td>male</td>\n",
              "      <td>35.0</td>\n",
              "      <td>0</td>\n",
              "      <td>0</td>\n",
              "      <td>373450</td>\n",
              "      <td>8.0500</td>\n",
              "      <td>NaN</td>\n",
              "      <td>S</td>\n",
              "    </tr>\n",
              "    <tr>\n",
              "      <th>5</th>\n",
              "      <td>6</td>\n",
              "      <td>0</td>\n",
              "      <td>3</td>\n",
              "      <td>Moran, Mr. James</td>\n",
              "      <td>male</td>\n",
              "      <td>NaN</td>\n",
              "      <td>0</td>\n",
              "      <td>0</td>\n",
              "      <td>330877</td>\n",
              "      <td>8.4583</td>\n",
              "      <td>NaN</td>\n",
              "      <td>Q</td>\n",
              "    </tr>\n",
              "    <tr>\n",
              "      <th>6</th>\n",
              "      <td>7</td>\n",
              "      <td>0</td>\n",
              "      <td>1</td>\n",
              "      <td>McCarthy, Mr. Timothy J</td>\n",
              "      <td>male</td>\n",
              "      <td>54.0</td>\n",
              "      <td>0</td>\n",
              "      <td>0</td>\n",
              "      <td>17463</td>\n",
              "      <td>51.8625</td>\n",
              "      <td>E46</td>\n",
              "      <td>S</td>\n",
              "    </tr>\n",
              "    <tr>\n",
              "      <th>7</th>\n",
              "      <td>8</td>\n",
              "      <td>0</td>\n",
              "      <td>3</td>\n",
              "      <td>Palsson, Master. Gosta Leonard</td>\n",
              "      <td>male</td>\n",
              "      <td>2.0</td>\n",
              "      <td>3</td>\n",
              "      <td>1</td>\n",
              "      <td>349909</td>\n",
              "      <td>21.0750</td>\n",
              "      <td>NaN</td>\n",
              "      <td>S</td>\n",
              "    </tr>\n",
              "    <tr>\n",
              "      <th>8</th>\n",
              "      <td>9</td>\n",
              "      <td>1</td>\n",
              "      <td>3</td>\n",
              "      <td>Johnson, Mrs. Oscar W (Elisabeth Vilhelmina Berg)</td>\n",
              "      <td>female</td>\n",
              "      <td>27.0</td>\n",
              "      <td>0</td>\n",
              "      <td>2</td>\n",
              "      <td>347742</td>\n",
              "      <td>11.1333</td>\n",
              "      <td>NaN</td>\n",
              "      <td>S</td>\n",
              "    </tr>\n",
              "    <tr>\n",
              "      <th>9</th>\n",
              "      <td>10</td>\n",
              "      <td>1</td>\n",
              "      <td>2</td>\n",
              "      <td>Nasser, Mrs. Nicholas (Adele Achem)</td>\n",
              "      <td>female</td>\n",
              "      <td>14.0</td>\n",
              "      <td>1</td>\n",
              "      <td>0</td>\n",
              "      <td>237736</td>\n",
              "      <td>30.0708</td>\n",
              "      <td>NaN</td>\n",
              "      <td>C</td>\n",
              "    </tr>\n",
              "  </tbody>\n",
              "</table>\n",
              "</div>"
            ],
            "text/plain": [
              "   PassengerId  Survived  Pclass  ...     Fare Cabin  Embarked\n",
              "0            1         0       3  ...   7.2500   NaN         S\n",
              "1            2         1       1  ...  71.2833   C85         C\n",
              "2            3         1       3  ...   7.9250   NaN         S\n",
              "3            4         1       1  ...  53.1000  C123         S\n",
              "4            5         0       3  ...   8.0500   NaN         S\n",
              "5            6         0       3  ...   8.4583   NaN         Q\n",
              "6            7         0       1  ...  51.8625   E46         S\n",
              "7            8         0       3  ...  21.0750   NaN         S\n",
              "8            9         1       3  ...  11.1333   NaN         S\n",
              "9           10         1       2  ...  30.0708   NaN         C\n",
              "\n",
              "[10 rows x 12 columns]"
            ]
          },
          "metadata": {
            "tags": []
          },
          "execution_count": 7
        }
      ]
    },
    {
      "cell_type": "code",
      "metadata": {
        "id": "OxZUVQz0NAcE",
        "outputId": "d66072b8-af9a-402c-eaad-22330546978b",
        "colab": {
          "base_uri": "https://localhost:8080/",
          "height": 248
        }
      },
      "source": [
        "sn.set_style(\"whitegrid\")  \n",
        "sn.boxplot(y='Age', data=df_train); #gráfico representando as idades das pessoas"
      ],
      "execution_count": 8,
      "outputs": [
        {
          "output_type": "display_data",
          "data": {
            "image/png": "[encoded data removed]",
            "text/plain": [
              "<Figure size 432x288 with 1 Axes>"
            ]
          },
          "metadata": {
            "tags": []
          }
        }
      ]
    },
    {
      "cell_type": "markdown",
      "metadata": {
        "id": "9P9IAXEPNSAo"
      },
      "source": [
        "É possível observar no gráfico que a idade da maioria dos passageiros está concentrada na faixa entre 20 e +ou- 39 anos de idade, mas observa-se também que existem idades até +ou- 64 anos e 0. Pode-se interpretar como 0 anos os bebês que aindanão completaram 1 ano. Além disso, é possível observar alguns outliers que variam 64 < a 80 anos. Como o ponto mais alto observado na idade é 80 anos, não vejo valores absurdos para esses dados da coluna Age em questão, considerando 0 os bebês."
      ]
    },
    {
      "cell_type": "markdown",
      "metadata": {
        "id": "sU5A5kIbQWoU"
      },
      "source": [
        "A seguir as pessoas serão divididas em 2 grupos pelo gênero:"
      ]
    },
    {
      "cell_type": "code",
      "metadata": {
        "id": "AenPBHWrPIPX"
      },
      "source": [
        "df_train_male = df_train[(df_train.Sex == 'male')]\n",
        "df_train_female = df_train[(df_train.Sex == 'female')]"
      ],
      "execution_count": 9,
      "outputs": []
    },
    {
      "cell_type": "markdown",
      "metadata": {
        "id": "zFp1nQG_O3s8"
      },
      "source": [
        "A seguir serão corrigidos os valores faltantes da idade dos passageiros de acordo com a média da idade de cada gênero:"
      ]
    },
    {
      "cell_type": "code",
      "metadata": {
        "id": "3DzOM_EqQ7wa"
      },
      "source": [
        "df_train.loc[(df_train.Sex == 'male') & (df_train.Age.isnull()), 'Age'] = df_train_male.Age.mean()\n",
        "df_train.loc[(df_train.Sex == 'female') & (df_train.Age.isnull()), 'Age'] = df_train_female.Age.mean()"
      ],
      "execution_count": 10,
      "outputs": []
    },
    {
      "cell_type": "code",
      "metadata": {
        "id": "-NLBNrchRFeF",
        "outputId": "aca82b4f-8108-409b-eba7-ac4ae57816b8",
        "colab": {
          "base_uri": "https://localhost:8080/"
        }
      },
      "source": [
        "df_train.info()"
      ],
      "execution_count": 11,
      "outputs": [
        {
          "output_type": "stream",
          "text": [
            "<class 'pandas.core.frame.DataFrame'>\n",
            "RangeIndex: 891 entries, 0 to 890\n",
            "Data columns (total 12 columns):\n",
            " #   Column       Non-Null Count  Dtype  \n",
            "---  ------       --------------  -----  \n",
            " 0   PassengerId  891 non-null    int64  \n",
            " 1   Survived     891 non-null    int64  \n",
            " 2   Pclass       891 non-null    int64  \n",
            " 3   Name         891 non-null    object \n",
            " 4   Sex          891 non-null    object \n",
            " 5   Age          891 non-null    float64\n",
            " 6   SibSp        891 non-null    int64  \n",
            " 7   Parch        891 non-null    int64  \n",
            " 8   Ticket       891 non-null    object \n",
            " 9   Fare         891 non-null    float64\n",
            " 10  Cabin        204 non-null    object \n",
            " 11  Embarked     889 non-null    object \n",
            "dtypes: float64(2), int64(5), object(5)\n",
            "memory usage: 83.7+ KB\n"
          ],
          "name": "stdout"
        }
      ]
    },
    {
      "cell_type": "markdown",
      "metadata": {
        "id": "41St4VA0RM81"
      },
      "source": [
        "É possível observar que agora os valores das idades foram corrigidos."
      ]
    },
    {
      "cell_type": "code",
      "metadata": {
        "id": "3gq0-DYfReDW"
      },
      "source": [
        "df_train.Age = df_train.Age.astype(int) #transformando os valores de float para inteiro"
      ],
      "execution_count": 12,
      "outputs": []
    },
    {
      "cell_type": "code",
      "metadata": {
        "id": "MrzlXuuARn6d",
        "outputId": "76b0df05-1029-4a7e-996e-edc4e24ac044",
        "colab": {
          "base_uri": "https://localhost:8080/",
          "height": 204
        }
      },
      "source": [
        "df_train.head(5)"
      ],
      "execution_count": 13,
      "outputs": [
        {
          "output_type": "execute_result",
          "data": {
            "text/html": [
              "<div>\n",
              "<style scoped>\n",
              "    .dataframe tbody tr th:only-of-type {\n",
              "        vertical-align: middle;\n",
              "    }\n",
              "\n",
              "    .dataframe tbody tr th {\n",
              "        vertical-align: top;\n",
              "    }\n",
              "\n",
              "    .dataframe thead th {\n",
              "        text-align: right;\n",
              "    }\n",
              "</style>\n",
              "<table border=\"1\" class=\"dataframe\">\n",
              "  <thead>\n",
              "    <tr style=\"text-align: right;\">\n",
              "      <th></th>\n",
              "      <th>PassengerId</th>\n",
              "      <th>Survived</th>\n",
              "      <th>Pclass</th>\n",
              "      <th>Name</th>\n",
              "      <th>Sex</th>\n",
              "      <th>Age</th>\n",
              "      <th>SibSp</th>\n",
              "      <th>Parch</th>\n",
              "      <th>Ticket</th>\n",
              "      <th>Fare</th>\n",
              "      <th>Cabin</th>\n",
              "      <th>Embarked</th>\n",
              "    </tr>\n",
              "  </thead>\n",
              "  <tbody>\n",
              "    <tr>\n",
              "      <th>0</th>\n",
              "      <td>1</td>\n",
              "      <td>0</td>\n",
              "      <td>3</td>\n",
              "      <td>Braund, Mr. Owen Harris</td>\n",
              "      <td>male</td>\n",
              "      <td>22</td>\n",
              "      <td>1</td>\n",
              "      <td>0</td>\n",
              "      <td>A/5 21171</td>\n",
              "      <td>7.2500</td>\n",
              "      <td>NaN</td>\n",
              "      <td>S</td>\n",
              "    </tr>\n",
              "    <tr>\n",
              "      <th>1</th>\n",
              "      <td>2</td>\n",
              "      <td>1</td>\n",
              "      <td>1</td>\n",
              "      <td>Cumings, Mrs. John Bradley (Florence Briggs Th...</td>\n",
              "      <td>female</td>\n",
              "      <td>38</td>\n",
              "      <td>1</td>\n",
              "      <td>0</td>\n",
              "      <td>PC 17599</td>\n",
              "      <td>71.2833</td>\n",
              "      <td>C85</td>\n",
              "      <td>C</td>\n",
              "    </tr>\n",
              "    <tr>\n",
              "      <th>2</th>\n",
              "      <td>3</td>\n",
              "      <td>1</td>\n",
              "      <td>3</td>\n",
              "      <td>Heikkinen, Miss. Laina</td>\n",
              "      <td>female</td>\n",
              "      <td>26</td>\n",
              "      <td>0</td>\n",
              "      <td>0</td>\n",
              "      <td>STON/O2. 3101282</td>\n",
              "      <td>7.9250</td>\n",
              "      <td>NaN</td>\n",
              "      <td>S</td>\n",
              "    </tr>\n",
              "    <tr>\n",
              "      <th>3</th>\n",
              "      <td>4</td>\n",
              "      <td>1</td>\n",
              "      <td>1</td>\n",
              "      <td>Futrelle, Mrs. Jacques Heath (Lily May Peel)</td>\n",
              "      <td>female</td>\n",
              "      <td>35</td>\n",
              "      <td>1</td>\n",
              "      <td>0</td>\n",
              "      <td>113803</td>\n",
              "      <td>53.1000</td>\n",
              "      <td>C123</td>\n",
              "      <td>S</td>\n",
              "    </tr>\n",
              "    <tr>\n",
              "      <th>4</th>\n",
              "      <td>5</td>\n",
              "      <td>0</td>\n",
              "      <td>3</td>\n",
              "      <td>Allen, Mr. William Henry</td>\n",
              "      <td>male</td>\n",
              "      <td>35</td>\n",
              "      <td>0</td>\n",
              "      <td>0</td>\n",
              "      <td>373450</td>\n",
              "      <td>8.0500</td>\n",
              "      <td>NaN</td>\n",
              "      <td>S</td>\n",
              "    </tr>\n",
              "  </tbody>\n",
              "</table>\n",
              "</div>"
            ],
            "text/plain": [
              "   PassengerId  Survived  Pclass  ...     Fare Cabin  Embarked\n",
              "0            1         0       3  ...   7.2500   NaN         S\n",
              "1            2         1       1  ...  71.2833   C85         C\n",
              "2            3         1       3  ...   7.9250   NaN         S\n",
              "3            4         1       1  ...  53.1000  C123         S\n",
              "4            5         0       3  ...   8.0500   NaN         S\n",
              "\n",
              "[5 rows x 12 columns]"
            ]
          },
          "metadata": {
            "tags": []
          },
          "execution_count": 13
        }
      ]
    },
    {
      "cell_type": "markdown",
      "metadata": {
        "id": "bO17BVcnR1HA"
      },
      "source": [
        "A seguir estará o novo gráfico da idade, depois da correção dos dados faltantes pela média da idade de cada gênero:"
      ]
    },
    {
      "cell_type": "code",
      "metadata": {
        "id": "MgivEgNUSDbG",
        "outputId": "c4b9d8bb-4ad9-4257-bd26-d0b4e9cfe281",
        "colab": {
          "base_uri": "https://localhost:8080/",
          "height": 248
        }
      },
      "source": [
        "sn.set_style(\"whitegrid\")  \n",
        "sn.boxplot(y='Age', data=df_train);"
      ],
      "execution_count": 14,
      "outputs": [
        {
          "output_type": "display_data",
          "data": {
            "image/png": "[encoded data removed]",
            "text/plain": [
              "<Figure size 432x288 with 1 Axes>"
            ]
          },
          "metadata": {
            "tags": []
          }
        }
      ]
    },
    {
      "cell_type": "markdown",
      "metadata": {
        "id": "l09ciqF3STaS"
      },
      "source": [
        "Pode-se observar que agora os valores ficaram na faixa de +ou- 55 e +ou- 1. Por considerar até 80 anos um valor possível não vou corrigir os valores fora da faixa etária principal."
      ]
    },
    {
      "cell_type": "code",
      "metadata": {
        "id": "Kuj9YePkTPuo",
        "outputId": "eee5f45a-c4f0-47ff-a4e5-c6996cf9a0d9",
        "colab": {
          "base_uri": "https://localhost:8080/",
          "height": 297
        }
      },
      "source": [
        "df_train.describe()"
      ],
      "execution_count": 15,
      "outputs": [
        {
          "output_type": "execute_result",
          "data": {
            "text/html": [
              "<div>\n",
              "<style scoped>\n",
              "    .dataframe tbody tr th:only-of-type {\n",
              "        vertical-align: middle;\n",
              "    }\n",
              "\n",
              "    .dataframe tbody tr th {\n",
              "        vertical-align: top;\n",
              "    }\n",
              "\n",
              "    .dataframe thead th {\n",
              "        text-align: right;\n",
              "    }\n",
              "</style>\n",
              "<table border=\"1\" class=\"dataframe\">\n",
              "  <thead>\n",
              "    <tr style=\"text-align: right;\">\n",
              "      <th></th>\n",
              "      <th>PassengerId</th>\n",
              "      <th>Survived</th>\n",
              "      <th>Pclass</th>\n",
              "      <th>Age</th>\n",
              "      <th>SibSp</th>\n",
              "      <th>Parch</th>\n",
              "      <th>Fare</th>\n",
              "    </tr>\n",
              "  </thead>\n",
              "  <tbody>\n",
              "    <tr>\n",
              "      <th>count</th>\n",
              "      <td>891.000000</td>\n",
              "      <td>891.000000</td>\n",
              "      <td>891.000000</td>\n",
              "      <td>891.000000</td>\n",
              "      <td>891.000000</td>\n",
              "      <td>891.000000</td>\n",
              "      <td>891.000000</td>\n",
              "    </tr>\n",
              "    <tr>\n",
              "      <th>mean</th>\n",
              "      <td>446.000000</td>\n",
              "      <td>0.383838</td>\n",
              "      <td>2.308642</td>\n",
              "      <td>29.564534</td>\n",
              "      <td>0.523008</td>\n",
              "      <td>0.381594</td>\n",
              "      <td>32.204208</td>\n",
              "    </tr>\n",
              "    <tr>\n",
              "      <th>std</th>\n",
              "      <td>257.353842</td>\n",
              "      <td>0.486592</td>\n",
              "      <td>0.836071</td>\n",
              "      <td>13.027414</td>\n",
              "      <td>1.102743</td>\n",
              "      <td>0.806057</td>\n",
              "      <td>49.693429</td>\n",
              "    </tr>\n",
              "    <tr>\n",
              "      <th>min</th>\n",
              "      <td>1.000000</td>\n",
              "      <td>0.000000</td>\n",
              "      <td>1.000000</td>\n",
              "      <td>0.000000</td>\n",
              "      <td>0.000000</td>\n",
              "      <td>0.000000</td>\n",
              "      <td>0.000000</td>\n",
              "    </tr>\n",
              "    <tr>\n",
              "      <th>25%</th>\n",
              "      <td>223.500000</td>\n",
              "      <td>0.000000</td>\n",
              "      <td>2.000000</td>\n",
              "      <td>22.000000</td>\n",
              "      <td>0.000000</td>\n",
              "      <td>0.000000</td>\n",
              "      <td>7.910400</td>\n",
              "    </tr>\n",
              "    <tr>\n",
              "      <th>50%</th>\n",
              "      <td>446.000000</td>\n",
              "      <td>0.000000</td>\n",
              "      <td>3.000000</td>\n",
              "      <td>30.000000</td>\n",
              "      <td>0.000000</td>\n",
              "      <td>0.000000</td>\n",
              "      <td>14.454200</td>\n",
              "    </tr>\n",
              "    <tr>\n",
              "      <th>75%</th>\n",
              "      <td>668.500000</td>\n",
              "      <td>1.000000</td>\n",
              "      <td>3.000000</td>\n",
              "      <td>35.000000</td>\n",
              "      <td>1.000000</td>\n",
              "      <td>0.000000</td>\n",
              "      <td>31.000000</td>\n",
              "    </tr>\n",
              "    <tr>\n",
              "      <th>max</th>\n",
              "      <td>891.000000</td>\n",
              "      <td>1.000000</td>\n",
              "      <td>3.000000</td>\n",
              "      <td>80.000000</td>\n",
              "      <td>8.000000</td>\n",
              "      <td>6.000000</td>\n",
              "      <td>512.329200</td>\n",
              "    </tr>\n",
              "  </tbody>\n",
              "</table>\n",
              "</div>"
            ],
            "text/plain": [
              "       PassengerId    Survived      Pclass  ...       SibSp       Parch        Fare\n",
              "count   891.000000  891.000000  891.000000  ...  891.000000  891.000000  891.000000\n",
              "mean    446.000000    0.383838    2.308642  ...    0.523008    0.381594   32.204208\n",
              "std     257.353842    0.486592    0.836071  ...    1.102743    0.806057   49.693429\n",
              "min       1.000000    0.000000    1.000000  ...    0.000000    0.000000    0.000000\n",
              "25%     223.500000    0.000000    2.000000  ...    0.000000    0.000000    7.910400\n",
              "50%     446.000000    0.000000    3.000000  ...    0.000000    0.000000   14.454200\n",
              "75%     668.500000    1.000000    3.000000  ...    1.000000    0.000000   31.000000\n",
              "max     891.000000    1.000000    3.000000  ...    8.000000    6.000000  512.329200\n",
              "\n",
              "[8 rows x 7 columns]"
            ]
          },
          "metadata": {
            "tags": []
          },
          "execution_count": 15
        }
      ]
    },
    {
      "cell_type": "markdown",
      "metadata": {
        "id": "OMmO4W83T3aO"
      },
      "source": [
        "A seguir será verificado a quantidade de pessoas com a faixa etária de 0(zero) anos."
      ]
    },
    {
      "cell_type": "code",
      "metadata": {
        "id": "gSwdCEP6T1Tb",
        "outputId": "4f56030d-1ccd-4fa5-b533-1be0b4100715",
        "colab": {
          "base_uri": "https://localhost:8080/"
        }
      },
      "source": [
        "count = 0\n",
        "for i in df_train.Age:\n",
        "  if i == 0:\n",
        "    count = count + 1\n",
        "\n",
        "print (f'Existem {count} bebês')"
      ],
      "execution_count": 16,
      "outputs": [
        {
          "output_type": "stream",
          "text": [
            "Existem 7 bebês\n"
          ],
          "name": "stdout"
        }
      ]
    },
    {
      "cell_type": "markdown",
      "metadata": {
        "id": "sRZuD_2XUr9w"
      },
      "source": [
        "A seguir estará o gráfico da correlação existente entre valor da passagem e a classe:"
      ]
    },
    {
      "cell_type": "code",
      "metadata": {
        "id": "GqOOUFbBU-G5",
        "outputId": "eecf5d82-daa6-449d-f88f-e4ff611bcb17",
        "colab": {
          "base_uri": "https://localhost:8080/",
          "height": 378
        }
      },
      "source": [
        "plt.figure(figsize=(10, 6))\n",
        "\n",
        "corr = df_train[['Pclass', 'Fare']].corr(method = 'pearson')\n",
        "\n",
        "# Configurar o heatmap\n",
        "sn.heatmap(corr, linewidths=.2, vmin=-1, vmax=1, annot=True, cmap=\"YlGnBu\")\n",
        "\n",
        "# Imprimir o grafico\n",
        "plt.show();"
      ],
      "execution_count": 17,
      "outputs": [
        {
          "output_type": "display_data",
          "data": {
            "image/png": "[encoded data removed]",
            "text/plain": [
              "<Figure size 720x432 with 2 Axes>"
            ]
          },
          "metadata": {
            "tags": []
          }
        }
      ]
    },
    {
      "cell_type": "markdown",
      "metadata": {
        "id": "U651ExT5VO1l"
      },
      "source": [
        "É possível observar que existe uma correlação inversamente proporcional, onde quanto mais alta a classe (Ex.: 1 menor o número da classe) maior é o valor da passagem. Porém, é possível observar que provavelmente por conta da classe média (2) esse valor não atingiu -1 no gráfico ficando em torno de -0,5."
      ]
    },
    {
      "cell_type": "code",
      "metadata": {
        "id": "CRIETYmNWCgq",
        "outputId": "8e45c9f8-892c-4534-a603-bf78708f41b2",
        "colab": {
          "base_uri": "https://localhost:8080/",
          "height": 111
        }
      },
      "source": [
        "df_train[['Pclass', 'Fare']].corr() #tabela de correlação entre classe e valor da passagem"
      ],
      "execution_count": 18,
      "outputs": [
        {
          "output_type": "execute_result",
          "data": {
            "text/html": [
              "<div>\n",
              "<style scoped>\n",
              "    .dataframe tbody tr th:only-of-type {\n",
              "        vertical-align: middle;\n",
              "    }\n",
              "\n",
              "    .dataframe tbody tr th {\n",
              "        vertical-align: top;\n",
              "    }\n",
              "\n",
              "    .dataframe thead th {\n",
              "        text-align: right;\n",
              "    }\n",
              "</style>\n",
              "<table border=\"1\" class=\"dataframe\">\n",
              "  <thead>\n",
              "    <tr style=\"text-align: right;\">\n",
              "      <th></th>\n",
              "      <th>Pclass</th>\n",
              "      <th>Fare</th>\n",
              "    </tr>\n",
              "  </thead>\n",
              "  <tbody>\n",
              "    <tr>\n",
              "      <th>Pclass</th>\n",
              "      <td>1.0000</td>\n",
              "      <td>-0.5495</td>\n",
              "    </tr>\n",
              "    <tr>\n",
              "      <th>Fare</th>\n",
              "      <td>-0.5495</td>\n",
              "      <td>1.0000</td>\n",
              "    </tr>\n",
              "  </tbody>\n",
              "</table>\n",
              "</div>"
            ],
            "text/plain": [
              "        Pclass    Fare\n",
              "Pclass  1.0000 -0.5495\n",
              "Fare   -0.5495  1.0000"
            ]
          },
          "metadata": {
            "tags": []
          },
          "execution_count": 18
        }
      ]
    },
    {
      "cell_type": "code",
      "metadata": {
        "id": "TBEY0cDZWKbt",
        "outputId": "2b51f0eb-1620-4a80-a8b1-72bc748b0438",
        "colab": {
          "base_uri": "https://localhost:8080/",
          "height": 111
        }
      },
      "source": [
        "df_train[['Age', 'Fare']].corr() #tabela de correlação entre idade e valor da passagem"
      ],
      "execution_count": 19,
      "outputs": [
        {
          "output_type": "execute_result",
          "data": {
            "text/html": [
              "<div>\n",
              "<style scoped>\n",
              "    .dataframe tbody tr th:only-of-type {\n",
              "        vertical-align: middle;\n",
              "    }\n",
              "\n",
              "    .dataframe tbody tr th {\n",
              "        vertical-align: top;\n",
              "    }\n",
              "\n",
              "    .dataframe thead th {\n",
              "        text-align: right;\n",
              "    }\n",
              "</style>\n",
              "<table border=\"1\" class=\"dataframe\">\n",
              "  <thead>\n",
              "    <tr style=\"text-align: right;\">\n",
              "      <th></th>\n",
              "      <th>Age</th>\n",
              "      <th>Fare</th>\n",
              "    </tr>\n",
              "  </thead>\n",
              "  <tbody>\n",
              "    <tr>\n",
              "      <th>Age</th>\n",
              "      <td>1.000000</td>\n",
              "      <td>0.091501</td>\n",
              "    </tr>\n",
              "    <tr>\n",
              "      <th>Fare</th>\n",
              "      <td>0.091501</td>\n",
              "      <td>1.000000</td>\n",
              "    </tr>\n",
              "  </tbody>\n",
              "</table>\n",
              "</div>"
            ],
            "text/plain": [
              "           Age      Fare\n",
              "Age   1.000000  0.091501\n",
              "Fare  0.091501  1.000000"
            ]
          },
          "metadata": {
            "tags": []
          },
          "execution_count": 19
        }
      ]
    },
    {
      "cell_type": "markdown",
      "metadata": {
        "id": "I9c6XlXUWUPr"
      },
      "source": [
        "É possível observar na tabela que quase não existe nenhuma correlação entre a idade e o valor da passagem paga."
      ]
    },
    {
      "cell_type": "markdown",
      "metadata": {
        "id": "IxX-CwA0W67t"
      },
      "source": [
        "A seguir estará uma análise das pessoas que morreram no naufrágio de acordo com o gênero e com a classe:"
      ]
    },
    {
      "cell_type": "code",
      "metadata": {
        "id": "kuB0fyaIWz-X"
      },
      "source": [
        "p_classes = df_train.Pclass.unique()\n",
        "p_classes = p_classes.tolist()\n",
        "p_classes.sort()"
      ],
      "execution_count": 20,
      "outputs": []
    },
    {
      "cell_type": "code",
      "metadata": {
        "id": "VPRV71y4XNL6",
        "outputId": "0b0aad0a-d448-40b9-8271-47aacffcd933",
        "colab": {
          "base_uri": "https://localhost:8080/"
        }
      },
      "source": [
        "quantidade_homens = df_train[(df_train.Sex == 'male')].PassengerId.count()\n",
        "quantidade_homens_mortos = df_train[(df_train.Sex == 'male') & (df_train.Survived == 0)].PassengerId.count()\n",
        "print(f'Quantidade de total de homens {quantidade_homens} no navio')\n",
        "print (f'A percentagem de homens que morreram é {quantidade_homens_mortos/quantidade_homens}')\n",
        "print('\\n')\n",
        "quantidade_mulheres = df_train[(df_train.Sex == 'female')].PassengerId.count()\n",
        "quantidade_mulheres_mortas = df_train[(df_train.Sex == 'female') & (df_train.Survived == 0)].PassengerId.count()\n",
        "print(f'Quantidade de total de mulheres {quantidade_mulheres} no navio')\n",
        "print (f'A percentagem de mulheres que morreram é {quantidade_mulheres_mortas/quantidade_mulheres}')\n",
        "print('\\n')\n",
        "\n",
        "idade_criancas = 13\n",
        "quantidade_criancas = df_train[(df_train.Age < idade_criancas)].PassengerId.count()\n",
        "quantidade_criancas_mortas = df_train[(df_train.Age < idade_criancas) & (df_train.Survived == 0)].PassengerId.count()\n",
        "print(f'Quantidade de total de crianças menores de {idade_criancas} anos: {quantidade_criancas} no navio')\n",
        "print (f'A percentagem de crianças que morreram é {quantidade_criancas_mortas/quantidade_criancas}')\n",
        "print('\\n')\n",
        "\n",
        "for p_class in p_classes:\n",
        "  quantidade_pessoas_classe = df_train[(df_train.Pclass == p_class)].PassengerId.count()\n",
        "  quantidade_pessoas_classe_mortas = df_train[(df_train.Pclass == p_class) & (df_train.Survived == 0)].PassengerId.count()\n",
        "  print(f'Quantidade de total de pessoas da classe {p_class}: {quantidade_pessoas_classe}')\n",
        "  print (f'A percentagem de pessoas da classe {p_class} que morreram é {quantidade_pessoas_classe_mortas/quantidade_pessoas_classe}')\n",
        "  print('\\n')\n",
        "\n"
      ],
      "execution_count": 21,
      "outputs": [
        {
          "output_type": "stream",
          "text": [
            "Quantidade de total de homens 577 no navio\n",
            "A percentagem de homens que morreram é 0.8110918544194108\n",
            "\n",
            "\n",
            "Quantidade de total de mulheres 314 no navio\n",
            "A percentagem de mulheres que morreram é 0.25796178343949044\n",
            "\n",
            "\n",
            "Quantidade de total de crianças menores de 13 anos: 69 no navio\n",
            "A percentagem de crianças que morreram é 0.42028985507246375\n",
            "\n",
            "\n",
            "Quantidade de total de pessoas da classe 1: 216\n",
            "A percentagem de pessoas da classe 1 que morreram é 0.37037037037037035\n",
            "\n",
            "\n",
            "Quantidade de total de pessoas da classe 2: 184\n",
            "A percentagem de pessoas da classe 2 que morreram é 0.5271739130434783\n",
            "\n",
            "\n",
            "Quantidade de total de pessoas da classe 3: 491\n",
            "A percentagem de pessoas da classe 3 que morreram é 0.7576374745417516\n",
            "\n",
            "\n"
          ],
          "name": "stdout"
        }
      ]
    },
    {
      "cell_type": "markdown",
      "metadata": {
        "id": "CrOxZ4mhXuRy"
      },
      "source": [
        "É possível observar que no navio haviam mais homens que mulheres. Após o naufrágio a percentagem de homens mortos foi muito maior que de mulheres assim como percentagem de pessoas da primeira classe mortas foi menor que das demais classes."
      ]
    },
    {
      "cell_type": "code",
      "metadata": {
        "id": "fhiE_rc6YXnF",
        "outputId": "9b19fc33-20f1-466a-b4a4-12dda822436d",
        "colab": {
          "base_uri": "https://localhost:8080/"
        }
      },
      "source": [
        "df_train.Embarked.isnull().sum() #quantidade de pessoas sem dados de embarque"
      ],
      "execution_count": 22,
      "outputs": [
        {
          "output_type": "execute_result",
          "data": {
            "text/plain": [
              "2"
            ]
          },
          "metadata": {
            "tags": []
          },
          "execution_count": 22
        }
      ]
    },
    {
      "cell_type": "markdown",
      "metadata": {
        "id": "OQWIcxSIYjOq"
      },
      "source": [
        "Como o número de pessoas sem informação de embarque é pequeno, vamos eliminar esses registros da base:"
      ]
    },
    {
      "cell_type": "code",
      "metadata": {
        "id": "iPPHU6xNYwJg"
      },
      "source": [
        "df_train = df_train[df_train.Embarked.notnull()]"
      ],
      "execution_count": 23,
      "outputs": []
    },
    {
      "cell_type": "code",
      "metadata": {
        "id": "ov4VNVlQYzW4",
        "outputId": "5df079c3-04ba-4c9e-d688-fe2dacefe0ca",
        "colab": {
          "base_uri": "https://localhost:8080/"
        }
      },
      "source": [
        "df_train.info()"
      ],
      "execution_count": 24,
      "outputs": [
        {
          "output_type": "stream",
          "text": [
            "<class 'pandas.core.frame.DataFrame'>\n",
            "Int64Index: 889 entries, 0 to 890\n",
            "Data columns (total 12 columns):\n",
            " #   Column       Non-Null Count  Dtype  \n",
            "---  ------       --------------  -----  \n",
            " 0   PassengerId  889 non-null    int64  \n",
            " 1   Survived     889 non-null    int64  \n",
            " 2   Pclass       889 non-null    int64  \n",
            " 3   Name         889 non-null    object \n",
            " 4   Sex          889 non-null    object \n",
            " 5   Age          889 non-null    int64  \n",
            " 6   SibSp        889 non-null    int64  \n",
            " 7   Parch        889 non-null    int64  \n",
            " 8   Ticket       889 non-null    object \n",
            " 9   Fare         889 non-null    float64\n",
            " 10  Cabin        202 non-null    object \n",
            " 11  Embarked     889 non-null    object \n",
            "dtypes: float64(1), int64(6), object(5)\n",
            "memory usage: 90.3+ KB\n"
          ],
          "name": "stdout"
        }
      ]
    },
    {
      "cell_type": "code",
      "metadata": {
        "id": "XGcoWlhEh2Zb"
      },
      "source": [
        "df_train = df_train.drop(columns=['Cabin'])\n",
        "df_train = df_train.drop(columns=['Ticket'])"
      ],
      "execution_count": 25,
      "outputs": []
    },
    {
      "cell_type": "markdown",
      "metadata": {
        "id": "VWkmkXJkiQKC"
      },
      "source": [
        "Como a quantidade de dados referente as cabines é pequena e não é possível em um primeiro momento identificar o número da cabine dos faltantes optou-se por removê-los. Como considerou-se os dados de ticket de pouca relevância para o treinamento também foram removidos. "
      ]
    },
    {
      "cell_type": "code",
      "metadata": {
        "id": "ZsY0R9jsiJlK",
        "outputId": "499c8f7f-c8fb-41e1-dc00-399224ebd211",
        "colab": {
          "base_uri": "https://localhost:8080/"
        }
      },
      "source": [
        "df_train.info()"
      ],
      "execution_count": 26,
      "outputs": [
        {
          "output_type": "stream",
          "text": [
            "<class 'pandas.core.frame.DataFrame'>\n",
            "Int64Index: 889 entries, 0 to 890\n",
            "Data columns (total 10 columns):\n",
            " #   Column       Non-Null Count  Dtype  \n",
            "---  ------       --------------  -----  \n",
            " 0   PassengerId  889 non-null    int64  \n",
            " 1   Survived     889 non-null    int64  \n",
            " 2   Pclass       889 non-null    int64  \n",
            " 3   Name         889 non-null    object \n",
            " 4   Sex          889 non-null    object \n",
            " 5   Age          889 non-null    int64  \n",
            " 6   SibSp        889 non-null    int64  \n",
            " 7   Parch        889 non-null    int64  \n",
            " 8   Fare         889 non-null    float64\n",
            " 9   Embarked     889 non-null    object \n",
            "dtypes: float64(1), int64(6), object(3)\n",
            "memory usage: 76.4+ KB\n"
          ],
          "name": "stdout"
        }
      ]
    },
    {
      "cell_type": "code",
      "metadata": {
        "id": "KAdjB-Tltbf-",
        "outputId": "349373d5-0aa4-4899-ca7e-7a3a93d7ae4c",
        "colab": {
          "base_uri": "https://localhost:8080/"
        }
      },
      "source": [
        "df_train.shape"
      ],
      "execution_count": 27,
      "outputs": [
        {
          "output_type": "execute_result",
          "data": {
            "text/plain": [
              "(889, 10)"
            ]
          },
          "metadata": {
            "tags": []
          },
          "execution_count": 27
        }
      ]
    },
    {
      "cell_type": "markdown",
      "metadata": {
        "id": "DJxRT70bpn9r"
      },
      "source": [
        "A seguir optou-se por criar uma coluna com a titulação separada do nome:"
      ]
    },
    {
      "cell_type": "code",
      "metadata": {
        "id": "cVl2ZHcaoqPn"
      },
      "source": [
        "def extrai_titulacao(df):\n",
        "  df['Title'] = df.Name.apply(lambda x: x.split(',')[1].split('.')[0].strip())\n",
        "extrai_titulacao(df_train)"
      ],
      "execution_count": 28,
      "outputs": []
    },
    {
      "cell_type": "code",
      "metadata": {
        "id": "T1lqS2m0pb78",
        "outputId": "fe335094-3343-4fae-cbec-8ed4b102e9ea",
        "colab": {
          "base_uri": "https://localhost:8080/",
          "height": 204
        }
      },
      "source": [
        "df_train.head(5)"
      ],
      "execution_count": 29,
      "outputs": [
        {
          "output_type": "execute_result",
          "data": {
            "text/html": [
              "<div>\n",
              "<style scoped>\n",
              "    .dataframe tbody tr th:only-of-type {\n",
              "        vertical-align: middle;\n",
              "    }\n",
              "\n",
              "    .dataframe tbody tr th {\n",
              "        vertical-align: top;\n",
              "    }\n",
              "\n",
              "    .dataframe thead th {\n",
              "        text-align: right;\n",
              "    }\n",
              "</style>\n",
              "<table border=\"1\" class=\"dataframe\">\n",
              "  <thead>\n",
              "    <tr style=\"text-align: right;\">\n",
              "      <th></th>\n",
              "      <th>PassengerId</th>\n",
              "      <th>Survived</th>\n",
              "      <th>Pclass</th>\n",
              "      <th>Name</th>\n",
              "      <th>Sex</th>\n",
              "      <th>Age</th>\n",
              "      <th>SibSp</th>\n",
              "      <th>Parch</th>\n",
              "      <th>Fare</th>\n",
              "      <th>Embarked</th>\n",
              "      <th>Title</th>\n",
              "    </tr>\n",
              "  </thead>\n",
              "  <tbody>\n",
              "    <tr>\n",
              "      <th>0</th>\n",
              "      <td>1</td>\n",
              "      <td>0</td>\n",
              "      <td>3</td>\n",
              "      <td>Braund, Mr. Owen Harris</td>\n",
              "      <td>male</td>\n",
              "      <td>22</td>\n",
              "      <td>1</td>\n",
              "      <td>0</td>\n",
              "      <td>7.2500</td>\n",
              "      <td>S</td>\n",
              "      <td>Mr</td>\n",
              "    </tr>\n",
              "    <tr>\n",
              "      <th>1</th>\n",
              "      <td>2</td>\n",
              "      <td>1</td>\n",
              "      <td>1</td>\n",
              "      <td>Cumings, Mrs. John Bradley (Florence Briggs Th...</td>\n",
              "      <td>female</td>\n",
              "      <td>38</td>\n",
              "      <td>1</td>\n",
              "      <td>0</td>\n",
              "      <td>71.2833</td>\n",
              "      <td>C</td>\n",
              "      <td>Mrs</td>\n",
              "    </tr>\n",
              "    <tr>\n",
              "      <th>2</th>\n",
              "      <td>3</td>\n",
              "      <td>1</td>\n",
              "      <td>3</td>\n",
              "      <td>Heikkinen, Miss. Laina</td>\n",
              "      <td>female</td>\n",
              "      <td>26</td>\n",
              "      <td>0</td>\n",
              "      <td>0</td>\n",
              "      <td>7.9250</td>\n",
              "      <td>S</td>\n",
              "      <td>Miss</td>\n",
              "    </tr>\n",
              "    <tr>\n",
              "      <th>3</th>\n",
              "      <td>4</td>\n",
              "      <td>1</td>\n",
              "      <td>1</td>\n",
              "      <td>Futrelle, Mrs. Jacques Heath (Lily May Peel)</td>\n",
              "      <td>female</td>\n",
              "      <td>35</td>\n",
              "      <td>1</td>\n",
              "      <td>0</td>\n",
              "      <td>53.1000</td>\n",
              "      <td>S</td>\n",
              "      <td>Mrs</td>\n",
              "    </tr>\n",
              "    <tr>\n",
              "      <th>4</th>\n",
              "      <td>5</td>\n",
              "      <td>0</td>\n",
              "      <td>3</td>\n",
              "      <td>Allen, Mr. William Henry</td>\n",
              "      <td>male</td>\n",
              "      <td>35</td>\n",
              "      <td>0</td>\n",
              "      <td>0</td>\n",
              "      <td>8.0500</td>\n",
              "      <td>S</td>\n",
              "      <td>Mr</td>\n",
              "    </tr>\n",
              "  </tbody>\n",
              "</table>\n",
              "</div>"
            ],
            "text/plain": [
              "   PassengerId  Survived  Pclass  ...     Fare Embarked  Title\n",
              "0            1         0       3  ...   7.2500        S     Mr\n",
              "1            2         1       1  ...  71.2833        C    Mrs\n",
              "2            3         1       3  ...   7.9250        S   Miss\n",
              "3            4         1       1  ...  53.1000        S    Mrs\n",
              "4            5         0       3  ...   8.0500        S     Mr\n",
              "\n",
              "[5 rows x 11 columns]"
            ]
          },
          "metadata": {
            "tags": []
          },
          "execution_count": 29
        }
      ]
    },
    {
      "cell_type": "markdown",
      "metadata": {
        "id": "1O9cI81O63mE"
      },
      "source": [
        "Como agora existe uma coluna com as titulações acredita-se que os nomes dos passageiros serão de pouca relevância para o treinamento então essa coluna será removida."
      ]
    },
    {
      "cell_type": "code",
      "metadata": {
        "id": "qcUi2_h3OBam"
      },
      "source": [
        "df_train = df_train.drop(columns=['Name'])"
      ],
      "execution_count": 30,
      "outputs": []
    },
    {
      "cell_type": "code",
      "metadata": {
        "id": "qWjqTZEKsksZ",
        "outputId": "ec33f8b2-298d-4c95-afa2-0db78efc3285",
        "colab": {
          "base_uri": "https://localhost:8080/"
        }
      },
      "source": [
        "df_train.shape"
      ],
      "execution_count": 31,
      "outputs": [
        {
          "output_type": "execute_result",
          "data": {
            "text/plain": [
              "(889, 10)"
            ]
          },
          "metadata": {
            "tags": []
          },
          "execution_count": 31
        }
      ]
    },
    {
      "cell_type": "code",
      "metadata": {
        "id": "hObERPousuUj",
        "outputId": "d9130cc9-817b-456a-e40a-65afa540cc51",
        "colab": {
          "base_uri": "https://localhost:8080/"
        }
      },
      "source": [
        "df_train.info()"
      ],
      "execution_count": 32,
      "outputs": [
        {
          "output_type": "stream",
          "text": [
            "<class 'pandas.core.frame.DataFrame'>\n",
            "Int64Index: 889 entries, 0 to 890\n",
            "Data columns (total 10 columns):\n",
            " #   Column       Non-Null Count  Dtype  \n",
            "---  ------       --------------  -----  \n",
            " 0   PassengerId  889 non-null    int64  \n",
            " 1   Survived     889 non-null    int64  \n",
            " 2   Pclass       889 non-null    int64  \n",
            " 3   Sex          889 non-null    object \n",
            " 4   Age          889 non-null    int64  \n",
            " 5   SibSp        889 non-null    int64  \n",
            " 6   Parch        889 non-null    int64  \n",
            " 7   Fare         889 non-null    float64\n",
            " 8   Embarked     889 non-null    object \n",
            " 9   Title        889 non-null    object \n",
            "dtypes: float64(1), int64(6), object(3)\n",
            "memory usage: 76.4+ KB\n"
          ],
          "name": "stdout"
        }
      ]
    },
    {
      "cell_type": "markdown",
      "metadata": {
        "id": "vFHpYGbt-Oa1"
      },
      "source": [
        "**Estimando o desempenho de classificadores**\n",
        "\n",
        "Considerando o conjunto de dados de treinamento do desafio \"Titanic: Machine Learning from Disaster\" do Kaggle (https://www.kaggle.com/c/titanic) e usando Jupyter Notebook ou Google Colab, faça: \n",
        "\n",
        "1) Usando as SVM, obtenha um classificador e estimene o seu desempenho usando validação cruzada com 10 folds. Para cada conjunto de treinamento, use a técnica de Grid Search para encontrar os melhores valores de parâmetros com o Kernel RBF. Como resultado final, apresente a média e o desvio padrão das acurácias.\n",
        "\n",
        "2) Escolha uma outra técnica de indução de classificadores e faça a mesma avaliação do item anterior.\n",
        "\n"
      ]
    },
    {
      "cell_type": "markdown",
      "metadata": {
        "id": "TthZWrsE0wHm"
      },
      "source": [
        "**Classificador SVM com Grid Search e validação cruzada com 10 folds**"
      ]
    },
    {
      "cell_type": "code",
      "metadata": {
        "id": "M3uRzS7dzGR4"
      },
      "source": [
        "#classificadores\n",
        "from sklearn.svm import SVC\n",
        "from sklearn.ensemble import RandomForestClassifier\n",
        "from sklearn.model_selection import GridSearchCV #Essa técnica irá testar todas as combinações possíveis dos hiperparâmetros, exaustivamente. \n",
        "from sklearn.model_selection import RandomizedSearchCV #Essa técnica irá testar combinações aleatórias e os melhores resultados funciona como um guia para a escolha dos próximos hiperparâmetros. (Pode acabar presa em mínimos locais.)\n",
        "\n",
        "#pré-processamento\n",
        "from sklearn import preprocessing \n",
        "from sklearn.preprocessing import StandardScaler #fornece várias funções e classes de transformador para alterar vetores de recursos brutos em uma representação que seja mais adequada para os estimadores."
      ],
      "execution_count": 33,
      "outputs": []
    },
    {
      "cell_type": "code",
      "metadata": {
        "id": "ewEZHOx0zPZA",
        "outputId": "53fabc89-69de-40d9-936b-cb42696455f1",
        "colab": {
          "base_uri": "https://localhost:8080/",
          "height": 204
        }
      },
      "source": [
        "df_train.head(5)"
      ],
      "execution_count": 34,
      "outputs": [
        {
          "output_type": "execute_result",
          "data": {
            "text/html": [
              "<div>\n",
              "<style scoped>\n",
              "    .dataframe tbody tr th:only-of-type {\n",
              "        vertical-align: middle;\n",
              "    }\n",
              "\n",
              "    .dataframe tbody tr th {\n",
              "        vertical-align: top;\n",
              "    }\n",
              "\n",
              "    .dataframe thead th {\n",
              "        text-align: right;\n",
              "    }\n",
              "</style>\n",
              "<table border=\"1\" class=\"dataframe\">\n",
              "  <thead>\n",
              "    <tr style=\"text-align: right;\">\n",
              "      <th></th>\n",
              "      <th>PassengerId</th>\n",
              "      <th>Survived</th>\n",
              "      <th>Pclass</th>\n",
              "      <th>Sex</th>\n",
              "      <th>Age</th>\n",
              "      <th>SibSp</th>\n",
              "      <th>Parch</th>\n",
              "      <th>Fare</th>\n",
              "      <th>Embarked</th>\n",
              "      <th>Title</th>\n",
              "    </tr>\n",
              "  </thead>\n",
              "  <tbody>\n",
              "    <tr>\n",
              "      <th>0</th>\n",
              "      <td>1</td>\n",
              "      <td>0</td>\n",
              "      <td>3</td>\n",
              "      <td>male</td>\n",
              "      <td>22</td>\n",
              "      <td>1</td>\n",
              "      <td>0</td>\n",
              "      <td>7.2500</td>\n",
              "      <td>S</td>\n",
              "      <td>Mr</td>\n",
              "    </tr>\n",
              "    <tr>\n",
              "      <th>1</th>\n",
              "      <td>2</td>\n",
              "      <td>1</td>\n",
              "      <td>1</td>\n",
              "      <td>female</td>\n",
              "      <td>38</td>\n",
              "      <td>1</td>\n",
              "      <td>0</td>\n",
              "      <td>71.2833</td>\n",
              "      <td>C</td>\n",
              "      <td>Mrs</td>\n",
              "    </tr>\n",
              "    <tr>\n",
              "      <th>2</th>\n",
              "      <td>3</td>\n",
              "      <td>1</td>\n",
              "      <td>3</td>\n",
              "      <td>female</td>\n",
              "      <td>26</td>\n",
              "      <td>0</td>\n",
              "      <td>0</td>\n",
              "      <td>7.9250</td>\n",
              "      <td>S</td>\n",
              "      <td>Miss</td>\n",
              "    </tr>\n",
              "    <tr>\n",
              "      <th>3</th>\n",
              "      <td>4</td>\n",
              "      <td>1</td>\n",
              "      <td>1</td>\n",
              "      <td>female</td>\n",
              "      <td>35</td>\n",
              "      <td>1</td>\n",
              "      <td>0</td>\n",
              "      <td>53.1000</td>\n",
              "      <td>S</td>\n",
              "      <td>Mrs</td>\n",
              "    </tr>\n",
              "    <tr>\n",
              "      <th>4</th>\n",
              "      <td>5</td>\n",
              "      <td>0</td>\n",
              "      <td>3</td>\n",
              "      <td>male</td>\n",
              "      <td>35</td>\n",
              "      <td>0</td>\n",
              "      <td>0</td>\n",
              "      <td>8.0500</td>\n",
              "      <td>S</td>\n",
              "      <td>Mr</td>\n",
              "    </tr>\n",
              "  </tbody>\n",
              "</table>\n",
              "</div>"
            ],
            "text/plain": [
              "   PassengerId  Survived  Pclass     Sex  ...  Parch     Fare  Embarked  Title\n",
              "0            1         0       3    male  ...      0   7.2500         S     Mr\n",
              "1            2         1       1  female  ...      0  71.2833         C    Mrs\n",
              "2            3         1       3  female  ...      0   7.9250         S   Miss\n",
              "3            4         1       1  female  ...      0  53.1000         S    Mrs\n",
              "4            5         0       3    male  ...      0   8.0500         S     Mr\n",
              "\n",
              "[5 rows x 10 columns]"
            ]
          },
          "metadata": {
            "tags": []
          },
          "execution_count": 34
        }
      ]
    },
    {
      "cell_type": "code",
      "metadata": {
        "id": "daNs0-NtzVwu",
        "outputId": "03dff1d2-3e8b-481e-d2e4-20e9ac084204",
        "colab": {
          "base_uri": "https://localhost:8080/",
          "height": 266
        }
      },
      "source": [
        "df_train.corr() #tabela de correlação"
      ],
      "execution_count": 35,
      "outputs": [
        {
          "output_type": "execute_result",
          "data": {
            "text/html": [
              "<div>\n",
              "<style scoped>\n",
              "    .dataframe tbody tr th:only-of-type {\n",
              "        vertical-align: middle;\n",
              "    }\n",
              "\n",
              "    .dataframe tbody tr th {\n",
              "        vertical-align: top;\n",
              "    }\n",
              "\n",
              "    .dataframe thead th {\n",
              "        text-align: right;\n",
              "    }\n",
              "</style>\n",
              "<table border=\"1\" class=\"dataframe\">\n",
              "  <thead>\n",
              "    <tr style=\"text-align: right;\">\n",
              "      <th></th>\n",
              "      <th>PassengerId</th>\n",
              "      <th>Survived</th>\n",
              "      <th>Pclass</th>\n",
              "      <th>Age</th>\n",
              "      <th>SibSp</th>\n",
              "      <th>Parch</th>\n",
              "      <th>Fare</th>\n",
              "    </tr>\n",
              "  </thead>\n",
              "  <tbody>\n",
              "    <tr>\n",
              "      <th>PassengerId</th>\n",
              "      <td>1.000000</td>\n",
              "      <td>-0.005028</td>\n",
              "      <td>-0.035330</td>\n",
              "      <td>0.033411</td>\n",
              "      <td>-0.057686</td>\n",
              "      <td>-0.001657</td>\n",
              "      <td>0.012703</td>\n",
              "    </tr>\n",
              "    <tr>\n",
              "      <th>Survived</th>\n",
              "      <td>-0.005028</td>\n",
              "      <td>1.000000</td>\n",
              "      <td>-0.335549</td>\n",
              "      <td>-0.083826</td>\n",
              "      <td>-0.034040</td>\n",
              "      <td>0.083151</td>\n",
              "      <td>0.255290</td>\n",
              "    </tr>\n",
              "    <tr>\n",
              "      <th>Pclass</th>\n",
              "      <td>-0.035330</td>\n",
              "      <td>-0.335549</td>\n",
              "      <td>1.000000</td>\n",
              "      <td>-0.331189</td>\n",
              "      <td>0.081656</td>\n",
              "      <td>0.016824</td>\n",
              "      <td>-0.548193</td>\n",
              "    </tr>\n",
              "    <tr>\n",
              "      <th>Age</th>\n",
              "      <td>0.033411</td>\n",
              "      <td>-0.083826</td>\n",
              "      <td>-0.331189</td>\n",
              "      <td>1.000000</td>\n",
              "      <td>-0.236648</td>\n",
              "      <td>-0.179009</td>\n",
              "      <td>0.088525</td>\n",
              "    </tr>\n",
              "    <tr>\n",
              "      <th>SibSp</th>\n",
              "      <td>-0.057686</td>\n",
              "      <td>-0.034040</td>\n",
              "      <td>0.081656</td>\n",
              "      <td>-0.236648</td>\n",
              "      <td>1.000000</td>\n",
              "      <td>0.414542</td>\n",
              "      <td>0.160887</td>\n",
              "    </tr>\n",
              "    <tr>\n",
              "      <th>Parch</th>\n",
              "      <td>-0.001657</td>\n",
              "      <td>0.083151</td>\n",
              "      <td>0.016824</td>\n",
              "      <td>-0.179009</td>\n",
              "      <td>0.414542</td>\n",
              "      <td>1.000000</td>\n",
              "      <td>0.217532</td>\n",
              "    </tr>\n",
              "    <tr>\n",
              "      <th>Fare</th>\n",
              "      <td>0.012703</td>\n",
              "      <td>0.255290</td>\n",
              "      <td>-0.548193</td>\n",
              "      <td>0.088525</td>\n",
              "      <td>0.160887</td>\n",
              "      <td>0.217532</td>\n",
              "      <td>1.000000</td>\n",
              "    </tr>\n",
              "  </tbody>\n",
              "</table>\n",
              "</div>"
            ],
            "text/plain": [
              "             PassengerId  Survived    Pclass  ...     SibSp     Parch      Fare\n",
              "PassengerId     1.000000 -0.005028 -0.035330  ... -0.057686 -0.001657  0.012703\n",
              "Survived       -0.005028  1.000000 -0.335549  ... -0.034040  0.083151  0.255290\n",
              "Pclass         -0.035330 -0.335549  1.000000  ...  0.081656  0.016824 -0.548193\n",
              "Age             0.033411 -0.083826 -0.331189  ... -0.236648 -0.179009  0.088525\n",
              "SibSp          -0.057686 -0.034040  0.081656  ...  1.000000  0.414542  0.160887\n",
              "Parch          -0.001657  0.083151  0.016824  ...  0.414542  1.000000  0.217532\n",
              "Fare            0.012703  0.255290 -0.548193  ...  0.160887  0.217532  1.000000\n",
              "\n",
              "[7 rows x 7 columns]"
            ]
          },
          "metadata": {
            "tags": []
          },
          "execution_count": 35
        }
      ]
    },
    {
      "cell_type": "code",
      "metadata": {
        "id": "Eswc_Meqzf0_"
      },
      "source": [
        "#codificação de labels para gênero\n",
        "le = preprocessing.LabelEncoder()\n",
        "le.fit(pd.unique(df_train.Sex))\n",
        "sex_t = le.transform(df_train.Sex) #imprimir classes distintas\n",
        "\n",
        "#codificação de labels para embarcado\n",
        "le = preprocessing.LabelEncoder()\n",
        "le.fit(pd.unique(df_train.Embarked))\n",
        "embarked_t = le.transform(df_train.Embarked)#imprimir classes distintas\n",
        "\n",
        "#codificação de labels para titulação\n",
        "le = preprocessing.LabelEncoder()\n",
        "le.fit(pd.unique(df_train.Title))\n",
        "title_t = le.transform(df_train.Title)#imprimir classes distintas"
      ],
      "execution_count": 36,
      "outputs": []
    },
    {
      "cell_type": "code",
      "metadata": {
        "id": "KvZBtAYjKn3P",
        "outputId": "cc7ca644-0089-46fc-b6a0-72259e83315c",
        "colab": {
          "base_uri": "https://localhost:8080/"
        }
      },
      "source": [
        "title_t #titulações codificadas"
      ],
      "execution_count": 37,
      "outputs": [
        {
          "output_type": "execute_result",
          "data": {
            "text/plain": [
              "array([11, 12,  8, 12, 11, 11, 11,  7, 12, 12,  8,  8, 11, 11,  8, 12,  7,\n",
              "       11, 12, 12, 11, 11,  8, 11,  8, 12, 11, 11,  8, 11,  2, 12,  8, 11,\n",
              "       11, 11, 11, 11,  8,  8, 12, 12, 11,  8,  8, 11, 11,  8, 11, 12,  7,\n",
              "       11, 12, 12, 11, 11,  8, 11,  8,  7, 11, 11,  7, 11,  7, 12, 11,  8,\n",
              "       11, 11,  8, 11, 11, 11, 11, 11, 11,  7,  8, 11, 11,  8, 11,  8, 12,\n",
              "       11, 11,  8, 11, 11, 11, 11, 11, 11, 11, 11, 11, 12, 11,  8, 11, 11,\n",
              "       11, 11, 11,  8, 11, 11,  8, 11,  8, 11,  8,  8, 11, 11, 11, 11,  8,\n",
              "       11, 11, 11,  8, 11,  7, 11, 11,  8, 11, 11, 11, 12, 12, 11, 11,  8,\n",
              "       11, 11, 11, 12,  8, 12, 11, 11, 11, 11,  8, 11, 14, 14, 12, 11, 11,\n",
              "       11, 11,  8, 11, 11,  7, 11, 12, 11, 11,  7,  7, 12, 12, 11, 11, 11,\n",
              "        7,  8, 11, 11, 11,  7,  8, 11, 11,  8, 11,  7,  7,  8, 11, 12, 11,\n",
              "       11, 11, 12, 11,  8,  7, 12,  8, 11, 11,  8,  8, 11, 11, 11, 11, 11,\n",
              "        8, 11, 11,  8, 11, 11,  8, 11, 11, 11,  8,  8, 11,  8, 11, 11, 11,\n",
              "       11, 11, 11, 11, 11, 11, 11,  8, 12, 11, 11,  8, 11,  8, 11,  8, 11,\n",
              "       11,  8,  8, 11, 11, 11,  3,  8, 12, 11, 14, 11, 12, 11, 11, 12, 12,\n",
              "       12,  8,  8, 12, 11,  7, 11, 11,  8, 11, 11, 11, 12,  8, 11, 11, 12,\n",
              "       11,  8,  8,  8, 11,  7, 12, 11, 11, 11, 11, 11, 11, 11, 11, 11,  8,\n",
              "        8, 12, 11,  8, 11, 11, 11,  8, 11, 12,  8, 11, 11,  8, 11,  7,  8,\n",
              "       12, 11,  8,  8,  8, 12, 11, 11,  8, 12,  3,  8, 12, 11, 11,  8, 12,\n",
              "       11,  8, 11, 12, 12,  8,  8, 11, 11, 11, 12, 11, 11,  8, 11, 11,  7,\n",
              "        8, 11, 11, 11,  8,  8, 12,  7, 11, 11, 11, 11, 11, 11, 11,  8,  8,\n",
              "        8,  8, 11, 11, 12, 11, 11, 11, 12, 12,  8, 10, 11, 11, 11, 11,  8,\n",
              "       12,  8, 11, 11, 11,  8,  8, 11, 12, 11, 11,  7,  8, 11,  8, 11, 11,\n",
              "       11,  8, 12, 11,  8, 11,  3, 12, 11, 11,  8, 11,  8, 11, 11,  7, 11,\n",
              "        8, 11, 11,  8, 11, 11, 12, 12,  8, 11,  8, 11, 11, 11, 12, 11, 11,\n",
              "       12,  8, 11, 11, 11, 12, 12, 11, 11,  8,  8, 12, 11, 11, 12, 11, 11,\n",
              "       13, 11,  7,  8, 11,  8,  6, 11, 11, 11, 11, 11, 11, 11, 12,  8, 11,\n",
              "       11, 11, 11, 11, 11, 11, 11, 11, 11,  8, 11, 11, 12, 12,  8, 11, 11,\n",
              "       11, 11,  8,  7, 11, 11, 12, 11,  8, 12, 11, 11,  7, 11, 11, 11, 11,\n",
              "       11, 11,  8, 11, 12, 11, 11,  8,  8,  8,  8, 11, 12, 11, 11, 11, 11,\n",
              "       11, 11, 12, 11, 11, 12, 11, 12, 11,  8, 11, 11, 12, 11, 11,  8, 11,\n",
              "       11, 11,  8, 11, 11, 12,  8,  8,  6,  8, 11,  8,  8,  8,  8, 11, 11,\n",
              "       11, 12, 11, 11,  7, 11, 11, 11, 11,  8, 11,  5, 11, 12, 12, 11, 11,\n",
              "       11, 11,  8, 11, 11, 12, 11, 11, 11, 12, 11,  8, 11, 11,  8, 12, 12,\n",
              "       11,  8, 12, 11, 11, 11,  8, 11, 11, 11, 11, 11, 12, 11,  8, 11, 11,\n",
              "        8, 11, 11, 15, 12, 11, 11, 11, 11, 11, 11, 11, 12,  8, 12, 11,  8,\n",
              "       11, 11,  8, 11, 12,  8, 11, 11, 11, 11, 11, 11, 11, 14,  8, 11, 11,\n",
              "       11, 11,  3, 11,  8,  8, 11, 11, 12, 11, 11,  9,  8, 11,  8, 11, 11,\n",
              "        1, 11,  8, 11,  8, 11,  8,  8, 11, 11, 12, 11, 11,  3, 11, 11, 11,\n",
              "       11, 11, 11, 11, 11, 12, 12, 11, 11, 11, 11, 11, 11,  8, 12, 11,  8,\n",
              "       11, 11, 11, 11, 11, 11, 11, 11,  8, 11,  8, 11, 11,  1, 11, 11,  8,\n",
              "       11, 11, 12, 11,  8, 11, 11, 11, 12, 11,  8,  7,  9, 11, 11, 11, 11,\n",
              "       11,  8,  8, 11, 11,  8, 11, 11, 11, 11, 11, 12,  8, 11,  8,  8, 11,\n",
              "       11, 11, 11, 11, 12, 11, 11, 11, 11, 11,  8, 11, 11,  0, 11,  8, 11,\n",
              "       11,  8,  7, 11, 11, 12,  7, 11, 11, 11, 16, 11, 11, 11, 12, 11, 12,\n",
              "        3,  8, 11, 11, 11, 11, 12, 11, 12, 11, 11,  8, 11, 12,  8, 12, 11,\n",
              "       11, 11, 11,  8,  7,  7, 11, 11, 11,  8, 11, 11, 11,  3, 12, 11, 12,\n",
              "       11, 12,  7,  7, 11, 11, 11,  8, 11, 12, 11, 11, 11,  8, 11, 11,  8,\n",
              "       11, 11,  7, 12, 11,  4, 12,  7, 11, 11,  7, 11, 12,  7, 11, 11, 11,\n",
              "        8, 11, 11, 11, 11, 11, 11,  8, 11, 11, 11, 11, 11, 14, 12,  7, 11,\n",
              "        8,  8, 12, 12, 12, 11, 12, 11, 11, 11, 12,  8, 11, 12,  8, 11, 11,\n",
              "        7, 11, 12, 11, 11, 12,  8, 11, 11, 11, 12, 12, 11,  8, 11, 11, 12,\n",
              "       14,  8,  8, 11, 11])"
            ]
          },
          "metadata": {
            "tags": []
          },
          "execution_count": 37
        }
      ]
    },
    {
      "cell_type": "markdown",
      "metadata": {
        "id": "0-gue-XzNUue"
      },
      "source": [
        "Os valores que foram codificados ainda não foram substituídos"
      ]
    },
    {
      "cell_type": "code",
      "metadata": {
        "id": "7GcQXxNfIbfJ",
        "outputId": "46f2e0d8-e69f-4af3-f7c5-f6523085049f",
        "colab": {
          "base_uri": "https://localhost:8080/",
          "height": 204
        }
      },
      "source": [
        "df_train.head(5) "
      ],
      "execution_count": 38,
      "outputs": [
        {
          "output_type": "execute_result",
          "data": {
            "text/html": [
              "<div>\n",
              "<style scoped>\n",
              "    .dataframe tbody tr th:only-of-type {\n",
              "        vertical-align: middle;\n",
              "    }\n",
              "\n",
              "    .dataframe tbody tr th {\n",
              "        vertical-align: top;\n",
              "    }\n",
              "\n",
              "    .dataframe thead th {\n",
              "        text-align: right;\n",
              "    }\n",
              "</style>\n",
              "<table border=\"1\" class=\"dataframe\">\n",
              "  <thead>\n",
              "    <tr style=\"text-align: right;\">\n",
              "      <th></th>\n",
              "      <th>PassengerId</th>\n",
              "      <th>Survived</th>\n",
              "      <th>Pclass</th>\n",
              "      <th>Sex</th>\n",
              "      <th>Age</th>\n",
              "      <th>SibSp</th>\n",
              "      <th>Parch</th>\n",
              "      <th>Fare</th>\n",
              "      <th>Embarked</th>\n",
              "      <th>Title</th>\n",
              "    </tr>\n",
              "  </thead>\n",
              "  <tbody>\n",
              "    <tr>\n",
              "      <th>0</th>\n",
              "      <td>1</td>\n",
              "      <td>0</td>\n",
              "      <td>3</td>\n",
              "      <td>male</td>\n",
              "      <td>22</td>\n",
              "      <td>1</td>\n",
              "      <td>0</td>\n",
              "      <td>7.2500</td>\n",
              "      <td>S</td>\n",
              "      <td>Mr</td>\n",
              "    </tr>\n",
              "    <tr>\n",
              "      <th>1</th>\n",
              "      <td>2</td>\n",
              "      <td>1</td>\n",
              "      <td>1</td>\n",
              "      <td>female</td>\n",
              "      <td>38</td>\n",
              "      <td>1</td>\n",
              "      <td>0</td>\n",
              "      <td>71.2833</td>\n",
              "      <td>C</td>\n",
              "      <td>Mrs</td>\n",
              "    </tr>\n",
              "    <tr>\n",
              "      <th>2</th>\n",
              "      <td>3</td>\n",
              "      <td>1</td>\n",
              "      <td>3</td>\n",
              "      <td>female</td>\n",
              "      <td>26</td>\n",
              "      <td>0</td>\n",
              "      <td>0</td>\n",
              "      <td>7.9250</td>\n",
              "      <td>S</td>\n",
              "      <td>Miss</td>\n",
              "    </tr>\n",
              "    <tr>\n",
              "      <th>3</th>\n",
              "      <td>4</td>\n",
              "      <td>1</td>\n",
              "      <td>1</td>\n",
              "      <td>female</td>\n",
              "      <td>35</td>\n",
              "      <td>1</td>\n",
              "      <td>0</td>\n",
              "      <td>53.1000</td>\n",
              "      <td>S</td>\n",
              "      <td>Mrs</td>\n",
              "    </tr>\n",
              "    <tr>\n",
              "      <th>4</th>\n",
              "      <td>5</td>\n",
              "      <td>0</td>\n",
              "      <td>3</td>\n",
              "      <td>male</td>\n",
              "      <td>35</td>\n",
              "      <td>0</td>\n",
              "      <td>0</td>\n",
              "      <td>8.0500</td>\n",
              "      <td>S</td>\n",
              "      <td>Mr</td>\n",
              "    </tr>\n",
              "  </tbody>\n",
              "</table>\n",
              "</div>"
            ],
            "text/plain": [
              "   PassengerId  Survived  Pclass     Sex  ...  Parch     Fare  Embarked  Title\n",
              "0            1         0       3    male  ...      0   7.2500         S     Mr\n",
              "1            2         1       1  female  ...      0  71.2833         C    Mrs\n",
              "2            3         1       3  female  ...      0   7.9250         S   Miss\n",
              "3            4         1       1  female  ...      0  53.1000         S    Mrs\n",
              "4            5         0       3    male  ...      0   8.0500         S     Mr\n",
              "\n",
              "[5 rows x 10 columns]"
            ]
          },
          "metadata": {
            "tags": []
          },
          "execution_count": 38
        }
      ]
    },
    {
      "cell_type": "code",
      "metadata": {
        "id": "8EyjcOmQKOUy",
        "outputId": "0cdbfbdc-2a82-426c-a996-11c095154772",
        "colab": {
          "base_uri": "https://localhost:8080/"
        }
      },
      "source": [
        "df_train.shape"
      ],
      "execution_count": 39,
      "outputs": [
        {
          "output_type": "execute_result",
          "data": {
            "text/plain": [
              "(889, 10)"
            ]
          },
          "metadata": {
            "tags": []
          },
          "execution_count": 39
        }
      ]
    },
    {
      "cell_type": "code",
      "metadata": {
        "id": "eu_hG7kXLruK",
        "outputId": "c90a4e6c-1420-451a-b3ba-bab34371979b",
        "colab": {
          "base_uri": "https://localhost:8080/"
        }
      },
      "source": [
        "df_train.info()"
      ],
      "execution_count": 40,
      "outputs": [
        {
          "output_type": "stream",
          "text": [
            "<class 'pandas.core.frame.DataFrame'>\n",
            "Int64Index: 889 entries, 0 to 890\n",
            "Data columns (total 10 columns):\n",
            " #   Column       Non-Null Count  Dtype  \n",
            "---  ------       --------------  -----  \n",
            " 0   PassengerId  889 non-null    int64  \n",
            " 1   Survived     889 non-null    int64  \n",
            " 2   Pclass       889 non-null    int64  \n",
            " 3   Sex          889 non-null    object \n",
            " 4   Age          889 non-null    int64  \n",
            " 5   SibSp        889 non-null    int64  \n",
            " 6   Parch        889 non-null    int64  \n",
            " 7   Fare         889 non-null    float64\n",
            " 8   Embarked     889 non-null    object \n",
            " 9   Title        889 non-null    object \n",
            "dtypes: float64(1), int64(6), object(3)\n",
            "memory usage: 76.4+ KB\n"
          ],
          "name": "stdout"
        }
      ]
    },
    {
      "cell_type": "code",
      "metadata": {
        "id": "waOR0ObqzlBq"
      },
      "source": [
        "Y = df_train.iloc[:,1] #definindo y como sobreviventes\n",
        "df_train = df_train.iloc[:,[2,3,4,5,6,7,8,9]] #restante dos dados, ignorando id dos passageiros"
      ],
      "execution_count": 41,
      "outputs": []
    },
    {
      "cell_type": "code",
      "metadata": {
        "id": "QTFDoLN6OfCp",
        "outputId": "88286c13-ccb6-4739-c9a3-6dd11fd4c1ce",
        "colab": {
          "base_uri": "https://localhost:8080/"
        }
      },
      "source": [
        "df_train.info()"
      ],
      "execution_count": 42,
      "outputs": [
        {
          "output_type": "stream",
          "text": [
            "<class 'pandas.core.frame.DataFrame'>\n",
            "Int64Index: 889 entries, 0 to 890\n",
            "Data columns (total 8 columns):\n",
            " #   Column    Non-Null Count  Dtype  \n",
            "---  ------    --------------  -----  \n",
            " 0   Pclass    889 non-null    int64  \n",
            " 1   Sex       889 non-null    object \n",
            " 2   Age       889 non-null    int64  \n",
            " 3   SibSp     889 non-null    int64  \n",
            " 4   Parch     889 non-null    int64  \n",
            " 5   Fare      889 non-null    float64\n",
            " 6   Embarked  889 non-null    object \n",
            " 7   Title     889 non-null    object \n",
            "dtypes: float64(1), int64(4), object(3)\n",
            "memory usage: 62.5+ KB\n"
          ],
          "name": "stdout"
        }
      ]
    },
    {
      "cell_type": "markdown",
      "metadata": {
        "id": "c-shLXYWR7R3"
      },
      "source": [
        "Substituindo os valores que foram codificados:"
      ]
    },
    {
      "cell_type": "code",
      "metadata": {
        "id": "QYsZSWjdOinW",
        "outputId": "5093ddfe-bce4-4717-b770-9361255db177",
        "colab": {
          "base_uri": "https://localhost:8080/"
        }
      },
      "source": [
        "df_train.iloc[:,1] = sex_t\n",
        "\n",
        "df_train.iloc[:,6] = embarked_t\n",
        "\n",
        "df_train.iloc[:,7] = title_t \n",
        "\n",
        "print(df_train.head(5))"
      ],
      "execution_count": 43,
      "outputs": [
        {
          "output_type": "stream",
          "text": [
            "   Pclass  Sex  Age  SibSp  Parch     Fare  Embarked  Title\n",
            "0       3    1   22      1      0   7.2500         2     11\n",
            "1       1    0   38      1      0  71.2833         0     12\n",
            "2       3    0   26      0      0   7.9250         2      8\n",
            "3       1    0   35      1      0  53.1000         2     12\n",
            "4       3    1   35      0      0   8.0500         2     11\n"
          ],
          "name": "stdout"
        }
      ]
    },
    {
      "cell_type": "code",
      "metadata": {
        "id": "AQXU5cSozo5Y"
      },
      "source": [
        "# normalizar/dimensionar dados\n",
        "scaler = StandardScaler()\n",
        "scaler.fit(df_train.values) #treinamento\n",
        "X_train = scaler.transform(df_train)"
      ],
      "execution_count": 44,
      "outputs": []
    },
    {
      "cell_type": "code",
      "metadata": {
        "id": "truOV-7mbkok",
        "outputId": "343cacbc-3fef-4952-847c-da72d5aa553a",
        "colab": {
          "base_uri": "https://localhost:8080/"
        }
      },
      "source": [
        "X_train[:,2] #exibindo idade normalizada/dimensionada"
      ],
      "execution_count": 45,
      "outputs": [
        {
          "output_type": "execute_result",
          "data": {
            "text/plain": [
              "array([-0.57896973,  0.65311666, -0.27094813,  0.42210046,  0.42210046,\n",
              "        0.03707347,  1.88520304, -2.11907771, -0.19394273, -1.19501292,\n",
              "       -1.96506691,  2.19322464, -0.73298052,  0.73012206, -1.19501292,\n",
              "        1.96220844, -2.11907771,  0.03707347,  0.11407886, -0.19394273,\n",
              "        0.42210046,  0.34509506, -1.11800752, -0.11693733, -1.65704531,\n",
              "        0.65311666,  0.03707347, -0.80998592, -0.19394273,  0.03707347,\n",
              "        0.80712745, -0.19394273, -0.19394273,  2.80926783, -0.11693733,\n",
              "        0.96113825,  0.03707347, -0.65597513, -0.88699132, -1.19501292,\n",
              "        0.80712745, -0.19394273,  0.03707347, -2.04207231, -0.80998592,\n",
              "        0.03707347,  0.03707347, -0.19394273,  0.03707347, -0.88699132,\n",
              "       -1.73405071, -0.65597513,  1.50017605, -0.03993193,  2.73226243,\n",
              "        0.03707347, -0.65597513, -0.11693733, -1.88806151, -1.42602911,\n",
              "       -0.57896973,  1.19215445, -1.96506691,  0.03707347,  0.03707347,\n",
              "       -0.03993193, -0.80998592, -0.96399672, -0.27094813,  0.19108426,\n",
              "       -1.04100212, -0.65597513, -0.27094813,  0.19108426, -0.34795353,\n",
              "        0.03707347,  0.03707347, -2.2730885 ,  0.03707347, -0.57896973,\n",
              "       -0.03993193, -0.19394273, -0.11693733, -0.96399672,  0.26808966,\n",
              "       -1.04100212,  0.03707347, -0.50196433, -0.42495893, -0.03993193,\n",
              "       -0.73298052,  1.26915985, -0.27094813,  2.27023003,  0.03707347,\n",
              "        3.19429482, -0.50196433,  0.34509506,  0.34509506, -0.11693733,\n",
              "        0.03707347, -0.65597513,  0.26808966,  0.57611126, -0.11693733,\n",
              "       -0.65597513,  0.03707347,  0.65311666, -0.19394273,  1.34616525,\n",
              "       -1.19501292, -0.57896973, -0.73298052, -0.96399672, -0.65597513,\n",
              "        3.11728942, -0.03993193, -0.42495893, -2.11907771, -0.65597513,\n",
              "        0.03707347,  0.19108426,  0.19108426,  1.88520304, -1.34902372,\n",
              "        0.03707347, -0.42495893, -0.19394273,  1.19215445,  0.26808966,\n",
              "       -0.73298052,  1.34616525, -0.03993193, -0.34795353, -0.50196433,\n",
              "       -0.80998592,  0.57611126, -1.04100212, -0.42495893, -0.19394273,\n",
              "       -0.57896973, -0.42495893, -0.80998592, -0.88699132, -0.80998592,\n",
              "       -0.19394273, -1.58003991,  0.49910586,  0.96113825,  1.65418684,\n",
              "       -0.57896973,  1.96220844,  0.80712745,  0.03707347,  1.65418684,\n",
              "       -1.04100212,  0.03707347,  0.03707347,  0.03707347,  1.11514905,\n",
              "        0.80712745, -0.27094813, -0.96399672, -2.1960831 , -1.58003991,\n",
              "       -0.19394273,  1.19215445,  0.03707347, -0.11693733,  2.42424083,\n",
              "       -1.96506691, -2.1960831 , -0.65597513,  2.03921384, -0.88699132,\n",
              "        0.03707347,  1.57718144,  0.03707347,  0.49910586, -0.19394273,\n",
              "        0.03707347, -1.58003991, -2.1960831 , -1.96506691,  0.03707347,\n",
              "       -0.19394273,  1.19215445,  0.80712745,  0.49910586,  0.19108426,\n",
              "       -0.80998592, -0.80998592, -2.04207231,  1.11514905,  2.19322464,\n",
              "        0.03707347,  0.96113825, -0.19394273, -0.42495893, -0.11693733,\n",
              "        0.03707347,  0.34509506,  1.19215445, -0.88699132, -2.11907771,\n",
              "        0.19108426, -0.27094813, -1.04100212,  0.80712745, -0.42495893,\n",
              "        0.42210046, -0.57896973,  0.03707347,  0.03707347,  0.11407886,\n",
              "       -0.19394273,  0.96113825,  0.19108426,  0.03707347, -1.04100212,\n",
              "       -0.19394273,  1.65418684,  0.03707347,  0.65311666, -0.57896973,\n",
              "       -0.80998592, -0.73298052, -0.88699132, -0.19394273,  0.42210046,\n",
              "       -0.03993193,  2.27023003, -1.88806151, -0.42495893, -0.19394273,\n",
              "        1.11514905, -1.65704531, -0.80998592,  0.26808966, -0.19394273,\n",
              "       -0.19394273, -0.03993193, -0.57896973,  0.03707347,  1.11514905,\n",
              "       -0.34795353, -0.42495893,  0.57611126,  1.88520304,  0.03707347,\n",
              "       -0.03993193,  2.50124623,  0.03707347,  0.88413285, -0.03993193,\n",
              "       -0.19394273,  0.03707347,  0.42210046,  1.57718144,  0.03707347,\n",
              "       -2.04207231,  1.73119224,  0.80712745, -0.19394273,  0.49910586,\n",
              "       -1.04100212, -0.34795353,  2.19322464,  0.42210046,  0.03707347,\n",
              "       -0.34795353,  0.88413285,  0.57611126, -0.19394273,  2.57825163,\n",
              "        1.19215445,  0.03707347, -1.73405071,  0.42210046,  2.73226243,\n",
              "       -0.11693733, -1.04100212, -0.80998592,  0.03707347,  0.26808966,\n",
              "        0.03707347, -0.57896973,  0.96113825, -0.57896973, -0.27094813,\n",
              "       -0.80998592,  0.49910586, -0.42495893, -0.42495893,  0.03707347,\n",
              "       -0.50196433, -2.11907771,  0.03707347,  1.57718144, -0.19394273,\n",
              "        0.03707347, -0.80998592, -0.19394273,  0.03707347, -2.2730885 ,\n",
              "       -0.19394273, -0.96399672,  0.03707347,  0.03707347, -0.42495893,\n",
              "       -0.88699132, -0.27094813, -0.11693733,  1.03814365, -0.27094813,\n",
              "       -0.42495893,  1.88520304,  0.11407886,  0.80712745, -0.57896973,\n",
              "       -0.19394273,  0.03707347, -0.57896973,  0.03707347,  0.49910586,\n",
              "        2.42424083,  0.49910586,  0.11407886, -1.04100212, -0.19394273,\n",
              "        1.19215445,  0.65311666, -1.04100212, -0.19394273,  0.03707347,\n",
              "       -0.03993193,  0.88413285,  1.19215445,  1.19215445, -2.11907771,\n",
              "       -0.42495893, -0.11693733, -0.34795353,  0.49910586, -0.42495893,\n",
              "        0.80712745, -0.19394273, -2.04207231,  0.96113825, -0.50196433,\n",
              "        0.03707347, -1.11800752, -0.34795353,  0.03707347, -0.11693733,\n",
              "       -0.57896973,  0.65311666, -0.19394273, -0.19394273,  0.80712745,\n",
              "       -0.03993193,  1.19215445,  0.42210046,  0.03707347,  0.03707347,\n",
              "        2.34723543, -0.19394273, -0.19394273, -0.42495893, -0.34795353,\n",
              "       -0.88699132, -0.80998592, -0.57896973, -2.04207231, -0.19394273,\n",
              "       -0.57896973, -0.19394273, -0.73298052, -0.80998592,  0.96113825,\n",
              "       -2.1960831 ,  0.19108426,  0.42210046,  0.03707347, -0.88699132,\n",
              "       -2.1960831 ,  0.49910586,  0.03707347, -0.96399672,  0.49910586,\n",
              "       -0.65597513, -0.11693733, -0.50196433, -0.42495893, -0.57896973,\n",
              "        0.11407886,  1.26915985, -0.50196433, -0.11693733,  0.73012206,\n",
              "       -0.27094813, -0.65597513, -0.11693733, -0.73298052,  0.34509506,\n",
              "        1.65418684, -2.04207231, -0.65597513, -0.19394273,  0.03707347,\n",
              "        0.03707347,  0.26808966,  0.03707347,  1.11514905, -0.19394273,\n",
              "        0.34509506, -0.88699132,  0.03707347, -1.50303451,  0.03707347,\n",
              "       -0.65597513, -0.03993193, -0.11693733, -0.88699132,  0.03707347,\n",
              "       -0.11693733, -0.80998592,  0.03707347,  0.19108426, -0.11693733,\n",
              "       -0.19394273,  0.96113825, -0.96399672,  1.57718144, -1.19501292,\n",
              "       -0.65597513, -0.42495893,  2.65525703,  0.11407886,  1.19215445,\n",
              "       -0.73298052, -0.34795353, -0.11693733,  0.03707347, -1.96506691,\n",
              "       -1.27201832,  0.34509506, -1.88806151,  1.73119224,  0.49910586,\n",
              "        0.03707347,  0.03707347,  1.50017605,  0.03707347, -0.03993193,\n",
              "        2.73226243, -0.19394273,  1.57718144,  0.03707347,  1.42317065,\n",
              "        0.34509506,  1.34616525,  1.42317065,  0.03707347,  0.65311666,\n",
              "        0.03707347,  2.03921384,  0.03707347, -2.2730885 ,  0.03707347,\n",
              "        0.65311666,  0.26808966, -0.50196433, -0.57896973,  0.03707347,\n",
              "        0.34509506, -0.03993193, -0.57896973, -2.11907771, -1.58003991,\n",
              "        0.03707347,  1.57718144,  2.57825163, -0.34795353, -0.19394273,\n",
              "        0.42210046,  2.19322464,  0.03707347, -1.58003991,  0.03707347,\n",
              "       -0.65597513,  1.96220844,  3.19429482, -0.65597513,  0.03707347,\n",
              "        1.88520304,  0.03707347, -0.34795353, -0.42495893, -0.96399672,\n",
              "       -0.65597513, -0.19394273,  0.57611126, -1.04100212, -0.88699132,\n",
              "        0.26808966,  0.03707347, -0.11693733, -0.27094813, -0.03993193,\n",
              "        0.03707347,  0.49910586,  1.88520304, -0.42495893,  1.34616525,\n",
              "        0.34509506,  0.03707347,  0.49910586,  0.19108426,  0.03707347,\n",
              "       -0.57896973,  0.03707347,  1.11514905,  0.03707347,  0.80712745,\n",
              "        1.57718144,  0.03707347,  0.73012206, -0.50196433, -2.11907771,\n",
              "        0.03707347, -0.96399672, -0.19394273,  0.03707347, -1.73405071,\n",
              "        1.19215445,  0.03707347,  0.03707347, -0.57896973,  0.49910586,\n",
              "       -1.58003991, -1.42602911,  0.19108426,  1.57718144,  2.65525703,\n",
              "       -0.80998592,  0.03707347,  0.26808966, -1.65704531, -0.96399672,\n",
              "       -0.19394273,  0.03707347, -0.57896973, -0.57896973,  2.50124623,\n",
              "        1.42317065,  0.03707347,  0.73012206,  0.49910586,  0.03707347,\n",
              "        0.80712745, -0.11693733,  0.03707347, -0.19394273, -0.42495893,\n",
              "       -0.80998592, -0.03993193,  0.03707347,  0.19108426,  2.50124623,\n",
              "        1.80819764,  0.49910586, -0.19394273, -1.04100212, -0.80998592,\n",
              "        0.34509506,  0.73012206, -0.19394273,  0.19108426, -0.34795353,\n",
              "        0.73012206,  1.88520304,  0.49910586,  0.03707347, -0.88699132,\n",
              "        1.34616525,  2.34723543, -0.57896973,  0.03707347,  0.42210046,\n",
              "        1.73119224,  1.34616525, -0.19394273,  0.57611126,  0.49910586,\n",
              "       -0.19394273,  1.50017605,  0.03707347,  1.50017605, -0.42495893,\n",
              "        0.03707347,  0.03707347,  1.11514905,  0.42210046,  0.49910586,\n",
              "        0.03707347, -0.19394273, -0.57896973,  0.80712745,  0.73012206,\n",
              "        0.03707347, -0.19394273,  0.03707347,  0.42210046, -0.42495893,\n",
              "        0.34509506, -0.27094813, -1.96506691, -0.27094813, -0.19394273,\n",
              "        0.96113825, -0.73298052, -0.65597513, -0.65597513,  2.42424083,\n",
              "        2.11621924, -0.65597513, -0.27094813,  0.03707347,  3.88734341,\n",
              "        1.65418684,  0.19108426,  0.03707347, -1.58003991, -0.11693733,\n",
              "        0.19108426,  0.11407886,  0.88413285,  0.03707347, -0.73298052,\n",
              "       -0.42495893, -2.11907771,  0.03707347, -2.2730885 ,  1.42317065,\n",
              "       -0.80998592,  2.03921384,  0.03707347, -0.50196433,  0.03707347,\n",
              "       -0.88699132, -0.65597513, -0.19394273, -0.88699132, -0.42495893,\n",
              "        0.03707347,  0.19108426, -0.50196433,  2.19322464,  1.57718144,\n",
              "        0.80712745,  1.34616525,  0.49910586, -0.73298052,  0.19108426,\n",
              "       -0.34795353,  0.03707347,  1.03814365, -0.19394273,  0.80712745,\n",
              "        0.11407886,  3.11728942,  0.11407886,  0.03707347, -0.88699132,\n",
              "       -0.42495893, -0.88699132,  1.03814365,  0.49910586, -0.19394273,\n",
              "       -0.19394273, -0.73298052, -1.19501292,  2.34723543, -0.34795353,\n",
              "       -1.19501292, -0.80998592, -0.88699132, -1.11800752,  0.11407886,\n",
              "       -1.96506691,  0.03707347, -0.34795353,  2.34723543,  1.73119224,\n",
              "        1.11514905, -0.19394273,  1.50017605,  0.96113825, -0.88699132,\n",
              "        0.42210046, -0.88699132, -0.34795353, -0.27094813,  0.73012206,\n",
              "        1.19215445,  0.96113825, -0.57896973,  0.03707347, -0.42495893,\n",
              "        0.03707347,  1.42317065, -0.03993193,  1.73119224, -0.80998592,\n",
              "        0.65311666, -0.19394273,  0.03707347,  0.26808966, -1.81105611,\n",
              "       -0.96399672,  0.34509506,  1.57718144, -0.19394273, -0.73298052,\n",
              "        0.03707347, -0.19394273, -0.34795353, -0.34795353, -0.03993193,\n",
              "       -1.42602911,  0.03707347, -0.50196433, -0.50196433, -0.11693733,\n",
              "        1.42317065,  0.42210046,  0.03707347,  0.03707347,  0.03707347,\n",
              "        0.49910586, -0.65597513, -0.42495893,  0.11407886,  3.11728942,\n",
              "       -1.04100212,  0.03707347, -0.80998592,  0.11407886, -1.96506691,\n",
              "       -1.81105611,  0.26808966, -0.50196433,  1.42317065, -2.2730885 ,\n",
              "       -0.11693733, -0.88699132,  0.34509506,  0.26808966,  0.03707347,\n",
              "        0.88413285, -0.73298052,  0.49910586, -1.04100212,  1.65418684,\n",
              "        0.03707347,  0.03707347,  0.03707347,  0.19108426, -0.42495893,\n",
              "        1.42317065,  2.11621924,  0.03707347,  1.88520304, -0.88699132,\n",
              "        0.03707347, -1.88806151,  0.03707347,  1.03814365, -1.27201832,\n",
              "       -0.96399672, -0.03993193,  0.03707347, -0.34795353, -0.34795353,\n",
              "       -0.88699132, -1.65704531, -2.1960831 ,  1.26915985,  0.03707347,\n",
              "       -1.04100212, -0.19394273,  0.03707347, -0.34795353,  0.73012206,\n",
              "        1.50017605,  0.11407886,  0.03707347,  0.03707347,  0.34509506,\n",
              "        0.11407886, -1.42602911, -2.2730885 , -0.19394273,  0.11407886,\n",
              "        0.73012206, -0.88699132,  0.73012206,  0.26808966, -0.27094813,\n",
              "        0.73012206,  0.42210046, -1.81105611,  0.03707347,  0.03707347,\n",
              "       -0.50196433,  0.11407886,  1.03814365, -1.50303451,  1.73119224,\n",
              "       -0.19394273,  0.65311666, -0.19394273, -2.11907771,  0.03707347,\n",
              "        0.03707347, -2.1960831 ,  0.03707347, -1.11800752, -2.2730885 ,\n",
              "        0.03707347, -0.50196433, -0.88699132,  0.73012206, -0.65597513,\n",
              "        0.03707347,  0.19108426,  0.03707347, -0.73298052, -1.04100212,\n",
              "        0.03707347,  0.34509506, -0.96399672,  0.96113825,  0.03707347,\n",
              "        0.42210046, -0.11693733, -0.19394273, -1.96506691,  3.42531102,\n",
              "       -1.58003991, -1.04100212,  1.11514905, -0.88699132,  1.19215445,\n",
              "        1.65418684, -0.42495893,  0.03707347,  0.88413285, -0.65597513,\n",
              "        1.42317065, -0.19394273, -0.42495893,  0.96113825, -0.19394273,\n",
              "        0.11407886,  0.03707347, -1.96506691, -0.27094813,  1.34616525,\n",
              "        0.26808966,  1.34616525, -0.11693733, -1.11800752, -0.73298052,\n",
              "       -0.80998592,  0.03707347,  2.03921384, -0.34795353,  0.26808966,\n",
              "       -0.57896973, -0.11693733, -0.34795353,  0.73012206, -0.19394273,\n",
              "       -0.80998592, -0.19394273, -0.27094813,  0.19108426])"
            ]
          },
          "metadata": {
            "tags": []
          },
          "execution_count": 45
        }
      ]
    },
    {
      "cell_type": "code",
      "metadata": {
        "id": "ERkv0Miq8lGf"
      },
      "source": [
        "#Função para coletar os resultados das métricas de avaliação\n",
        "def printAccuracies(fold, cv_result):\n",
        "  for i in range (0,fold):\n",
        "    print(cv_result[f'split{i}_test_score'][0])"
      ],
      "execution_count": 46,
      "outputs": []
    },
    {
      "cell_type": "code",
      "metadata": {
        "id": "gtB4lq0R-WNN"
      },
      "source": [
        "fold = 10 #validação cruzada com 10 folds"
      ],
      "execution_count": 47,
      "outputs": []
    },
    {
      "cell_type": "code",
      "metadata": {
        "id": "oZIdODAFzwyv",
        "outputId": "388269aa-baca-44e9-d32f-52f4b9b1a313",
        "colab": {
          "base_uri": "https://localhost:8080/"
        }
      },
      "source": [
        "#svm com grid search cross-validation\n",
        "svm = SVC(random_state=42)\n",
        "parameters = {'kernel': ['rbf']} #radial basis function kernel\n",
        "clf_svm = GridSearchCV(estimator = svm, param_grid=parameters, cv = fold, scoring='accuracy')\n",
        "\n",
        "result = clf_svm.fit(X_train,Y)\n",
        "\n",
        "mean = result.cv_results_['mean_test_score'][0]\n",
        "print(f'Accuracy AVG: {mean}') #média das acurácias\n",
        "std = result.cv_results_['std_test_score'][0]\n",
        "print(f'Accuracy STD: {std}') #desvio padrão das acurácias\n",
        "printAccuracies(fold, result.cv_results_) #todas as acurácias"
      ],
      "execution_count": 48,
      "outputs": [
        {
          "output_type": "stream",
          "text": [
            "Accuracy AVG: 0.8301838610827375\n",
            "Accuracy STD: 0.03828003992660433\n",
            "0.8089887640449438\n",
            "0.8764044943820225\n",
            "0.7640449438202247\n",
            "0.8764044943820225\n",
            "0.8426966292134831\n",
            "0.797752808988764\n",
            "0.8202247191011236\n",
            "0.7865168539325843\n",
            "0.8651685393258427\n",
            "0.8636363636363636\n"
          ],
          "name": "stdout"
        }
      ]
    },
    {
      "cell_type": "code",
      "metadata": {
        "id": "gQ3uEvRawMAU",
        "outputId": "f3a2c194-c246-4fb4-9059-d4ce6fdfb1f7",
        "colab": {
          "base_uri": "https://localhost:8080/"
        }
      },
      "source": [
        "#svm com randomized search cross-validation\n",
        "svm = SVC(random_state=42)\n",
        "parameters = {'kernel': ['rbf']}\n",
        "clf_svm_r = RandomizedSearchCV(estimator = svm, param_distributions=parameters, cv = fold)\n",
        "\n",
        "result = clf_svm_r.fit(X_train,Y)\n",
        "\n",
        "mean = result.cv_results_['mean_test_score'][0]\n",
        "print(f'Accuracy AVG: {mean}')\n",
        "std = result.cv_results_['std_test_score'][0]\n",
        "print(f'Accuracy STD: {std}')\n",
        "printAccuracies(fold, result.cv_results_)\n"
      ],
      "execution_count": 49,
      "outputs": [
        {
          "output_type": "stream",
          "text": [
            "/usr/local/lib/python3.6/dist-packages/sklearn/model_selection/_search.py:281: UserWarning: The total space of parameters 1 is smaller than n_iter=10. Running 1 iterations. For exhaustive searches, use GridSearchCV.\n",
            "  % (grid_size, self.n_iter, grid_size), UserWarning)\n"
          ],
          "name": "stderr"
        },
        {
          "output_type": "stream",
          "text": [
            "Accuracy AVG: 0.8301838610827375\n",
            "Accuracy STD: 0.03828003992660433\n",
            "0.8089887640449438\n",
            "0.8764044943820225\n",
            "0.7640449438202247\n",
            "0.8764044943820225\n",
            "0.8426966292134831\n",
            "0.797752808988764\n",
            "0.8202247191011236\n",
            "0.7865168539325843\n",
            "0.8651685393258427\n",
            "0.8636363636363636\n"
          ],
          "name": "stdout"
        }
      ]
    },
    {
      "cell_type": "code",
      "metadata": {
        "id": "T9-7QmWOlzJn",
        "outputId": "788d434c-6eee-463f-c0f5-848d208c3e74",
        "colab": {
          "base_uri": "https://localhost:8080/"
        }
      },
      "source": [
        "clf_svm.best_params_ #melhores parâmetros selecionados dos que foram passados "
      ],
      "execution_count": 50,
      "outputs": [
        {
          "output_type": "execute_result",
          "data": {
            "text/plain": [
              "{'kernel': 'rbf'}"
            ]
          },
          "metadata": {
            "tags": []
          },
          "execution_count": 50
        }
      ]
    },
    {
      "cell_type": "markdown",
      "metadata": {
        "id": "PhhpbKNd24BY"
      },
      "source": [
        "**Classificador Floresta Randômica com Grid Search e validação cruzada com 10 folds**"
      ]
    },
    {
      "cell_type": "code",
      "metadata": {
        "id": "UXl_QGfJfavi"
      },
      "source": [
        "RFC = RandomForestClassifier(random_state=42)"
      ],
      "execution_count": 51,
      "outputs": []
    },
    {
      "cell_type": "code",
      "metadata": {
        "id": "sYEM-xQ4f4g-",
        "outputId": "5fba3f77-be60-46d3-ca58-d0fd94abd4ce",
        "colab": {
          "base_uri": "https://localhost:8080/"
        }
      },
      "source": [
        "#Floresta Randômica com grid search cross-validation\n",
        "parameters = {'n_estimators': [100, 200], 'max_depth':[2, 3, 4, 5]}\n",
        "clf_rfc_g = GridSearchCV(estimator = RFC, param_grid = parameters, cv = fold)\n",
        "\n",
        "result = clf_rfc_g.fit(X_train,Y)\n",
        "\n",
        "mean = result.cv_results_['mean_test_score'][0]\n",
        "print(f'Accuracy AVG: {mean}')\n",
        "std = result.cv_results_['std_test_score'][0]\n",
        "print(f'Accuracy STD: {std}')\n",
        "printAccuracies(fold, result.cv_results_)"
      ],
      "execution_count": 52,
      "outputs": [
        {
          "output_type": "stream",
          "text": [
            "Accuracy AVG: 0.7850995914198161\n",
            "Accuracy STD: 0.0360602597505721\n",
            "0.7865168539325843\n",
            "0.7640449438202247\n",
            "0.7752808988764045\n",
            "0.8651685393258427\n",
            "0.797752808988764\n",
            "0.797752808988764\n",
            "0.7865168539325843\n",
            "0.7303370786516854\n",
            "0.8089887640449438\n",
            "0.7386363636363636\n"
          ],
          "name": "stdout"
        }
      ]
    },
    {
      "cell_type": "code",
      "metadata": {
        "id": "c6ozMEQrmbGt",
        "outputId": "4c84f290-8871-4f01-b5e8-53cfff185396",
        "colab": {
          "base_uri": "https://localhost:8080/"
        }
      },
      "source": [
        "clf_rfc_g.best_params_ #melhores parâmetros selecionados dos que foram passados "
      ],
      "execution_count": 54,
      "outputs": [
        {
          "output_type": "execute_result",
          "data": {
            "text/plain": [
              "{'max_depth': 5, 'n_estimators': 200}"
            ]
          },
          "metadata": {
            "tags": []
          },
          "execution_count": 54
        }
      ]
    },
    {
      "cell_type": "code",
      "metadata": {
        "id": "ZOvn7zzn-17Z",
        "outputId": "d7c87795-ffd6-4065-9586-44eb7b6cbde6",
        "colab": {
          "base_uri": "https://localhost:8080/"
        }
      },
      "source": [
        "#Floresta Randômica com randomized search cross-validation\n",
        "parameters = {'n_estimators': [100, 200], 'max_depth':[2, 3, 4, 5]}\n",
        "clf_rfc_r = RandomizedSearchCV(estimator = RFC, param_distributions= parameters, cv = fold)\n",
        "\n",
        "result = clf_rfc_r.fit(X_train,Y)\n",
        "\n",
        "mean = result.cv_results_['mean_test_score'][0]\n",
        "print(f'Accuracy AVG: {mean}')\n",
        "std = result.cv_results_['std_test_score'][0]\n",
        "print(f'Accuracy STD: {std}')\n",
        "printAccuracies(fold, result.cv_results_)"
      ],
      "execution_count": 55,
      "outputs": [
        {
          "output_type": "stream",
          "text": [
            "/usr/local/lib/python3.6/dist-packages/sklearn/model_selection/_search.py:281: UserWarning: The total space of parameters 8 is smaller than n_iter=10. Running 8 iterations. For exhaustive searches, use GridSearchCV.\n",
            "  % (grid_size, self.n_iter, grid_size), UserWarning)\n"
          ],
          "name": "stderr"
        },
        {
          "output_type": "stream",
          "text": [
            "Accuracy AVG: 0.7850995914198161\n",
            "Accuracy STD: 0.0360602597505721\n",
            "0.7865168539325843\n",
            "0.7640449438202247\n",
            "0.7752808988764045\n",
            "0.8651685393258427\n",
            "0.797752808988764\n",
            "0.797752808988764\n",
            "0.7865168539325843\n",
            "0.7303370786516854\n",
            "0.8089887640449438\n",
            "0.7386363636363636\n"
          ],
          "name": "stdout"
        }
      ]
    }
  ]
}